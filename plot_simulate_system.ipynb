{
 "cells": [
  {
   "cell_type": "code",
   "execution_count": 1,
   "metadata": {
    "collapsed": false
   },
   "outputs": [],
   "source": [
    "%matplotlib inline"
   ]
  },
  {
   "cell_type": "markdown",
   "metadata": {},
   "source": [
    "\n",
    "# Simulating PV system DC output using the ADR module efficiency model\n",
    "\n",
    "Time series processing with the ADR model is really easy.\n",
    "\n",
    "This example reads a TMY3 weather file, and runs a basic simulation\n",
    "on a fixed latitude-tilt system.\n",
    "Efficiency is independent of system size, so adjusting the system\n",
    "capacity is just a matter of setting the desired value, e.g. P_STC = 5000.\n",
    "\n",
    "Author: Anton Driesse\n"
   ]
  },
  {
   "cell_type": "code",
   "execution_count": 4,
   "metadata": {
    "collapsed": false
   },
   "outputs": [],
   "source": [
    "import os\n",
    "import pandas as pd\n",
    "import matplotlib.pyplot as plt\n",
    "\n",
    "import pvlib\n",
    "from pvlib import iotools, location\n",
    "from pvlib.irradiance import get_total_irradiance\n",
    "from pvlib.pvarray import pvefficiency_adr"
   ]
  },
  {
   "cell_type": "markdown",
   "metadata": {},
   "source": [
    "Read a TMY3 file containing weather data and select needed columns\n",
    "\n",
    "\n"
   ]
  },
  {
   "cell_type": "code",
   "execution_count": 12,
   "metadata": {
    "collapsed": false
   },
   "outputs": [
    {
     "name": "stdout",
     "output_type": "stream",
     "text": [
      "['Year' 'Month' 'Day' 'Hour' 'Minute' 'DHI' 'DNI' 'Temperature' 'GHI'\n",
      " 'Clearsky DHI' 'Clearsky DNI' 'Clearsky GHI' 'Wind Speed']\n",
      "RangeIndex(start=0, stop=8760, step=1)\n"
     ]
    }
   ],
   "source": [
    "#PVLIB_DIR = pvlib.__path__[0]\n",
    "#DATA_FILE = os.path.join(PVLIB_DIR, 'data', '723170TYA.CSV')\n",
    "DATA_FILE= ('/home/pavel/PycharmProjects/nydrogen/data/psp_2015.csv')\n",
    "#tmy, metadata = iotools.read_tmy3(DATA_FILE, coerce_year=1990)\n",
    "tmy=pd.read_csv(DATA_FILE)\n",
    "\n",
    "print(tmy.columns.values)\n",
    "df = pd.DataFrame({'ghi': tmy['GHI'], 'dhi': tmy['DHI'], 'dni': tmy['DNI'],\n",
    "                   'temp_air': tmy['Temperature'], 'wind_speed': tmy['Wind Speed'],\n",
    "                   })"
   ]
  },
  {
   "cell_type": "markdown",
   "metadata": {},
   "source": [
    "Shift timestamps to middle of hour and then calculate sun positions\n",
    "\n",
    "\n"
   ]
  },
  {
   "cell_type": "code",
   "execution_count": 13,
   "metadata": {
    "collapsed": false
   },
   "outputs": [
    {
     "ename": "TypeError",
     "evalue": "unsupported operand type(s) for -: 'numpy.ndarray' and 'Timedelta'",
     "output_type": "error",
     "traceback": [
      "\u001B[0;31m---------------------------------------------------------------------------\u001B[0m",
      "\u001B[0;31mTypeError\u001B[0m                                 Traceback (most recent call last)",
      "Cell \u001B[0;32mIn [13], line 1\u001B[0m\n\u001B[0;32m----> 1\u001B[0m df\u001B[38;5;241m.\u001B[39mindex \u001B[38;5;241m=\u001B[39m \u001B[43mdf\u001B[49m\u001B[38;5;241;43m.\u001B[39;49m\u001B[43mindex\u001B[49m\u001B[43m \u001B[49m\u001B[38;5;241;43m-\u001B[39;49m\u001B[43m \u001B[49m\u001B[43mpd\u001B[49m\u001B[38;5;241;43m.\u001B[39;49m\u001B[43mTimedelta\u001B[49m\u001B[43m(\u001B[49m\u001B[43mminutes\u001B[49m\u001B[38;5;241;43m=\u001B[39;49m\u001B[38;5;241;43m60\u001B[39;49m\u001B[43m)\u001B[49m\n\u001B[1;32m      3\u001B[0m loc \u001B[38;5;241m=\u001B[39m \u001B[38;5;241m81257\u001B[39m\u001B[38;5;66;03m#location.Location.from_tmy(metadata)\u001B[39;00m\n\u001B[1;32m      4\u001B[0m solpos \u001B[38;5;241m=\u001B[39m loc\u001B[38;5;241m.\u001B[39mget_solarposition(df\u001B[38;5;241m.\u001B[39mindex)\n",
      "File \u001B[0;32m~/PycharmProjects/GitHubToGitLab/venv/lib/python3.10/site-packages/pandas/core/ops/common.py:72\u001B[0m, in \u001B[0;36m_unpack_zerodim_and_defer.<locals>.new_method\u001B[0;34m(self, other)\u001B[0m\n\u001B[1;32m     68\u001B[0m             \u001B[38;5;28;01mreturn\u001B[39;00m \u001B[38;5;28mNotImplemented\u001B[39m\n\u001B[1;32m     70\u001B[0m other \u001B[38;5;241m=\u001B[39m item_from_zerodim(other)\n\u001B[0;32m---> 72\u001B[0m \u001B[38;5;28;01mreturn\u001B[39;00m \u001B[43mmethod\u001B[49m\u001B[43m(\u001B[49m\u001B[38;5;28;43mself\u001B[39;49m\u001B[43m,\u001B[49m\u001B[43m \u001B[49m\u001B[43mother\u001B[49m\u001B[43m)\u001B[49m\n",
      "File \u001B[0;32m~/PycharmProjects/GitHubToGitLab/venv/lib/python3.10/site-packages/pandas/core/arraylike.py:110\u001B[0m, in \u001B[0;36mOpsMixin.__sub__\u001B[0;34m(self, other)\u001B[0m\n\u001B[1;32m    108\u001B[0m \u001B[38;5;129m@unpack_zerodim_and_defer\u001B[39m(\u001B[38;5;124m\"\u001B[39m\u001B[38;5;124m__sub__\u001B[39m\u001B[38;5;124m\"\u001B[39m)\n\u001B[1;32m    109\u001B[0m \u001B[38;5;28;01mdef\u001B[39;00m \u001B[38;5;21m__sub__\u001B[39m(\u001B[38;5;28mself\u001B[39m, other):\n\u001B[0;32m--> 110\u001B[0m     \u001B[38;5;28;01mreturn\u001B[39;00m \u001B[38;5;28;43mself\u001B[39;49m\u001B[38;5;241;43m.\u001B[39;49m\u001B[43m_arith_method\u001B[49m\u001B[43m(\u001B[49m\u001B[43mother\u001B[49m\u001B[43m,\u001B[49m\u001B[43m \u001B[49m\u001B[43moperator\u001B[49m\u001B[38;5;241;43m.\u001B[39;49m\u001B[43msub\u001B[49m\u001B[43m)\u001B[49m\n",
      "File \u001B[0;32m~/PycharmProjects/GitHubToGitLab/venv/lib/python3.10/site-packages/pandas/core/indexes/range.py:1037\u001B[0m, in \u001B[0;36mRangeIndex._arith_method\u001B[0;34m(self, other, op)\u001B[0m\n\u001B[1;32m   1033\u001B[0m     \u001B[38;5;28;01mreturn\u001B[39;00m \u001B[38;5;28mNotImplemented\u001B[39m\n\u001B[1;32m   1034\u001B[0m \u001B[38;5;28;01melif\u001B[39;00m \u001B[38;5;28misinstance\u001B[39m(other, (timedelta, np\u001B[38;5;241m.\u001B[39mtimedelta64)):\n\u001B[1;32m   1035\u001B[0m     \u001B[38;5;66;03m# GH#19333 is_integer evaluated True on timedelta64,\u001B[39;00m\n\u001B[1;32m   1036\u001B[0m     \u001B[38;5;66;03m# so we need to catch these explicitly\u001B[39;00m\n\u001B[0;32m-> 1037\u001B[0m     \u001B[38;5;28;01mreturn\u001B[39;00m \u001B[38;5;28;43msuper\u001B[39;49m\u001B[43m(\u001B[49m\u001B[43m)\u001B[49m\u001B[38;5;241;43m.\u001B[39;49m\u001B[43m_arith_method\u001B[49m\u001B[43m(\u001B[49m\u001B[43mother\u001B[49m\u001B[43m,\u001B[49m\u001B[43m \u001B[49m\u001B[43mop\u001B[49m\u001B[43m)\u001B[49m\n\u001B[1;32m   1038\u001B[0m \u001B[38;5;28;01melif\u001B[39;00m is_timedelta64_dtype(other):\n\u001B[1;32m   1039\u001B[0m     \u001B[38;5;66;03m# Must be an np.ndarray; GH#22390\u001B[39;00m\n\u001B[1;32m   1040\u001B[0m     \u001B[38;5;28;01mreturn\u001B[39;00m \u001B[38;5;28msuper\u001B[39m()\u001B[38;5;241m.\u001B[39m_arith_method(other, op)\n",
      "File \u001B[0;32m~/PycharmProjects/GitHubToGitLab/venv/lib/python3.10/site-packages/pandas/core/indexes/base.py:7048\u001B[0m, in \u001B[0;36mIndex._arith_method\u001B[0;34m(self, other, op)\u001B[0m\n\u001B[1;32m   7038\u001B[0m \u001B[38;5;28;01mif\u001B[39;00m (\n\u001B[1;32m   7039\u001B[0m     \u001B[38;5;28misinstance\u001B[39m(other, Index)\n\u001B[1;32m   7040\u001B[0m     \u001B[38;5;129;01mand\u001B[39;00m is_object_dtype(other\u001B[38;5;241m.\u001B[39mdtype)\n\u001B[0;32m   (...)\u001B[0m\n\u001B[1;32m   7044\u001B[0m     \u001B[38;5;66;03m# a chance to implement ops before we unwrap them.\u001B[39;00m\n\u001B[1;32m   7045\u001B[0m     \u001B[38;5;66;03m# See https://github.com/pandas-dev/pandas/issues/31109\u001B[39;00m\n\u001B[1;32m   7046\u001B[0m     \u001B[38;5;28;01mreturn\u001B[39;00m \u001B[38;5;28mNotImplemented\u001B[39m\n\u001B[0;32m-> 7048\u001B[0m \u001B[38;5;28;01mreturn\u001B[39;00m \u001B[38;5;28;43msuper\u001B[39;49m\u001B[43m(\u001B[49m\u001B[43m)\u001B[49m\u001B[38;5;241;43m.\u001B[39;49m\u001B[43m_arith_method\u001B[49m\u001B[43m(\u001B[49m\u001B[43mother\u001B[49m\u001B[43m,\u001B[49m\u001B[43m \u001B[49m\u001B[43mop\u001B[49m\u001B[43m)\u001B[49m\n",
      "File \u001B[0;32m~/PycharmProjects/GitHubToGitLab/venv/lib/python3.10/site-packages/pandas/core/base.py:1325\u001B[0m, in \u001B[0;36mIndexOpsMixin._arith_method\u001B[0;34m(self, other, op)\u001B[0m\n\u001B[1;32m   1322\u001B[0m rvalues \u001B[38;5;241m=\u001B[39m ensure_wrapped_if_datetimelike(rvalues)\n\u001B[1;32m   1324\u001B[0m \u001B[38;5;28;01mwith\u001B[39;00m np\u001B[38;5;241m.\u001B[39merrstate(\u001B[38;5;28mall\u001B[39m\u001B[38;5;241m=\u001B[39m\u001B[38;5;124m\"\u001B[39m\u001B[38;5;124mignore\u001B[39m\u001B[38;5;124m\"\u001B[39m):\n\u001B[0;32m-> 1325\u001B[0m     result \u001B[38;5;241m=\u001B[39m \u001B[43mops\u001B[49m\u001B[38;5;241;43m.\u001B[39;49m\u001B[43marithmetic_op\u001B[49m\u001B[43m(\u001B[49m\u001B[43mlvalues\u001B[49m\u001B[43m,\u001B[49m\u001B[43m \u001B[49m\u001B[43mrvalues\u001B[49m\u001B[43m,\u001B[49m\u001B[43m \u001B[49m\u001B[43mop\u001B[49m\u001B[43m)\u001B[49m\n\u001B[1;32m   1327\u001B[0m \u001B[38;5;28;01mreturn\u001B[39;00m \u001B[38;5;28mself\u001B[39m\u001B[38;5;241m.\u001B[39m_construct_result(result, name\u001B[38;5;241m=\u001B[39mres_name)\n",
      "File \u001B[0;32m~/PycharmProjects/GitHubToGitLab/venv/lib/python3.10/site-packages/pandas/core/ops/array_ops.py:218\u001B[0m, in \u001B[0;36marithmetic_op\u001B[0;34m(left, right, op)\u001B[0m\n\u001B[1;32m    205\u001B[0m \u001B[38;5;66;03m# NB: We assume that extract_array and ensure_wrapped_if_datetimelike\u001B[39;00m\n\u001B[1;32m    206\u001B[0m \u001B[38;5;66;03m#  have already been called on `left` and `right`,\u001B[39;00m\n\u001B[1;32m    207\u001B[0m \u001B[38;5;66;03m#  and `maybe_prepare_scalar_for_op` has already been called on `right`\u001B[39;00m\n\u001B[1;32m    208\u001B[0m \u001B[38;5;66;03m# We need to special-case datetime64/timedelta64 dtypes (e.g. because numpy\u001B[39;00m\n\u001B[1;32m    209\u001B[0m \u001B[38;5;66;03m# casts integer dtypes to timedelta64 when operating with timedelta64 - GH#22390)\u001B[39;00m\n\u001B[1;32m    211\u001B[0m \u001B[38;5;28;01mif\u001B[39;00m (\n\u001B[1;32m    212\u001B[0m     should_extension_dispatch(left, right)\n\u001B[1;32m    213\u001B[0m     \u001B[38;5;129;01mor\u001B[39;00m \u001B[38;5;28misinstance\u001B[39m(right, (Timedelta, BaseOffset, Timestamp))\n\u001B[0;32m   (...)\u001B[0m\n\u001B[1;32m    216\u001B[0m     \u001B[38;5;66;03m# Timedelta/Timestamp and other custom scalars are included in the check\u001B[39;00m\n\u001B[1;32m    217\u001B[0m     \u001B[38;5;66;03m# because numexpr will fail on it, see GH#31457\u001B[39;00m\n\u001B[0;32m--> 218\u001B[0m     res_values \u001B[38;5;241m=\u001B[39m \u001B[43mop\u001B[49m\u001B[43m(\u001B[49m\u001B[43mleft\u001B[49m\u001B[43m,\u001B[49m\u001B[43m \u001B[49m\u001B[43mright\u001B[49m\u001B[43m)\u001B[49m\n\u001B[1;32m    219\u001B[0m \u001B[38;5;28;01melse\u001B[39;00m:\n\u001B[1;32m    220\u001B[0m     \u001B[38;5;66;03m# TODO we should handle EAs consistently and move this check before the if/else\u001B[39;00m\n\u001B[1;32m    221\u001B[0m     \u001B[38;5;66;03m# (https://github.com/pandas-dev/pandas/issues/41165)\u001B[39;00m\n\u001B[1;32m    222\u001B[0m     _bool_arith_check(op, left, right)\n",
      "\u001B[0;31mTypeError\u001B[0m: unsupported operand type(s) for -: 'numpy.ndarray' and 'Timedelta'"
     ]
    }
   ],
   "source": [
    "df.index = df.index - pd.Timedelta(minutes=60)\n",
    "\n",
    "loc = 81257#location.Location.from_tmy(metadata)\n",
    "solpos = loc.get_solarposition(df.index)"
   ]
  },
  {
   "cell_type": "markdown",
   "metadata": {},
   "source": [
    "Determine  total irradiance on a fixed-tilt array\n",
    "\n",
    "\n"
   ]
  },
  {
   "cell_type": "code",
   "execution_count": 11,
   "metadata": {
    "collapsed": false
   },
   "outputs": [
    {
     "ename": "NameError",
     "evalue": "name 'solpos' is not defined",
     "output_type": "error",
     "traceback": [
      "\u001B[0;31m---------------------------------------------------------------------------\u001B[0m",
      "\u001B[0;31mNameError\u001B[0m                                 Traceback (most recent call last)",
      "Cell \u001B[0;32mIn [11], line 5\u001B[0m\n\u001B[1;32m      1\u001B[0m TILT \u001B[38;5;241m=\u001B[39m \u001B[38;5;241m33.81\u001B[39m\u001B[38;5;66;03m#metadata['latitude']\u001B[39;00m\n\u001B[1;32m      2\u001B[0m ORIENT \u001B[38;5;241m=\u001B[39m \u001B[38;5;241m180\u001B[39m\n\u001B[1;32m      4\u001B[0m total_irrad \u001B[38;5;241m=\u001B[39m get_total_irradiance(TILT, ORIENT,\n\u001B[0;32m----> 5\u001B[0m                                    \u001B[43msolpos\u001B[49m\u001B[38;5;241m.\u001B[39mapparent_zenith, solpos\u001B[38;5;241m.\u001B[39mazimuth,\n\u001B[1;32m      6\u001B[0m                                    df\u001B[38;5;241m.\u001B[39mdni, df\u001B[38;5;241m.\u001B[39mghi, df\u001B[38;5;241m.\u001B[39mdhi)\n\u001B[1;32m      8\u001B[0m df[\u001B[38;5;124m'\u001B[39m\u001B[38;5;124mpoa_global\u001B[39m\u001B[38;5;124m'\u001B[39m] \u001B[38;5;241m=\u001B[39m total_irrad\u001B[38;5;241m.\u001B[39mpoa_global\n",
      "\u001B[0;31mNameError\u001B[0m: name 'solpos' is not defined"
     ]
    }
   ],
   "source": [
    "TILT = 33.81#metadata['latitude']\n",
    "ORIENT = 180\n",
    "\n",
    "total_irrad = get_total_irradiance(TILT, ORIENT,\n",
    "                                   solpos.apparent_zenith, solpos.azimuth,\n",
    "                                   df.dni, df.ghi, df.dhi)\n",
    "\n",
    "df['poa_global'] = total_irrad.poa_global"
   ]
  },
  {
   "cell_type": "markdown",
   "metadata": {},
   "source": [
    "Estimate the expected operating temperature of the PV modules\n",
    "\n",
    "\n"
   ]
  },
  {
   "cell_type": "code",
   "execution_count": null,
   "metadata": {
    "collapsed": false
   },
   "outputs": [],
   "source": [
    "df['temp_pv'] = pvlib.temperature.faiman(df.poa_global, df.temp_air,\n",
    "                                         df.wind_speed)"
   ]
  },
  {
   "cell_type": "markdown",
   "metadata": {},
   "source": [
    "Now we're ready to calculate PV array DC output power based\n",
    "on POA irradiance and PV module operating temperature.\n",
    "Among the models available in pvlib-python to do this are:\n",
    "\n",
    " - PVWatts\n",
    " - SAPM\n",
    " - single-diode model variations\n",
    "\n",
    "And now also the ADR PV efficiency model\n",
    "\n",
    "Simulation is done in two steps:\n",
    "\n",
    " - first calculate efficiency using the ADR model,\n",
    " - then convert (scale up) efficiency to power.\n",
    "\n",
    "\n"
   ]
  },
  {
   "cell_type": "code",
   "execution_count": null,
   "metadata": {
    "collapsed": false
   },
   "outputs": [],
   "source": [
    "# Borrow the ADR model parameters from the other example:\n",
    "\n",
    "adr_params = {'k_a': 0.99924,\n",
    "              'k_d': -5.49097,\n",
    "              'tc_d': 0.01918,\n",
    "              'k_rs': 0.06999,\n",
    "              'k_rsh': 0.26144\n",
    "              }\n",
    "\n",
    "df['eta_rel'] = pvefficiency_adr(df['poa_global'], df['temp_pv'], **adr_params)\n",
    "\n",
    "# Set the desired array size:\n",
    "P_STC = 5000.   # (W)\n",
    "\n",
    "# and the irradiance level needed to achieve this output:\n",
    "G_STC = 1000.   # (W/m2)\n",
    "\n",
    "df['p_mp'] = P_STC * df['eta_rel'] * (df['poa_global'] / G_STC)"
   ]
  },
  {
   "cell_type": "markdown",
   "metadata": {},
   "source": [
    "Show how power and efficiency vary with both irradiance and temperature\n",
    "\n",
    "\n"
   ]
  },
  {
   "cell_type": "code",
   "execution_count": null,
   "metadata": {
    "collapsed": false
   },
   "outputs": [],
   "source": [
    "plt.figure()\n",
    "pc = plt.scatter(df['poa_global'], df['eta_rel'], c=df['temp_pv'], cmap='jet')\n",
    "plt.colorbar(label='Temperature [C]', ax=plt.gca())\n",
    "pc.set_alpha(0.25)\n",
    "plt.grid(alpha=0.5)\n",
    "plt.ylim(0.48)\n",
    "plt.xlabel('Irradiance [W/m²]')\n",
    "plt.ylabel('Relative efficiency [-]')\n",
    "plt.show()\n",
    "\n",
    "plt.figure()\n",
    "pc = plt.scatter(df['poa_global'], df['p_mp'], c=df['temp_pv'], cmap='jet')\n",
    "plt.colorbar(label='Temperature [C]', ax=plt.gca())\n",
    "pc.set_alpha(0.25)\n",
    "plt.grid(alpha=0.5)\n",
    "plt.xlabel('Irradiance [W/m²]')\n",
    "plt.ylabel('Array power [W]')\n",
    "plt.show()"
   ]
  },
  {
   "cell_type": "markdown",
   "metadata": {},
   "source": [
    "One day:\n",
    "\n",
    "\n"
   ]
  },
  {
   "cell_type": "code",
   "execution_count": null,
   "metadata": {
    "collapsed": false
   },
   "outputs": [],
   "source": [
    "DEMO_DAY = '1990-08-05'\n",
    "\n",
    "plt.figure()\n",
    "plt.plot(df['p_mp'][DEMO_DAY])\n",
    "plt.xticks(rotation=30)\n",
    "plt.ylabel('Power [W]')\n",
    "plt.show()"
   ]
  },
  {
   "cell_type": "markdown",
   "metadata": {},
   "source": [
    "## References\n",
    ".. [1] A. Driesse and J. S. Stein, \"From IEC 61853 power measurements\n",
    "   to PV system simulations\", Sandia Report No. SAND2020-3877, 2020.\n",
    "   :doi:`10.2172/1615179`\n",
    "\n",
    ".. [2] A. Driesse, M. Theristis and J. S. Stein, \"A New Photovoltaic Module\n",
    "   Efficiency Model for Energy Prediction and Rating,\" in IEEE Journal\n",
    "   of Photovoltaics, vol. 11, no. 2, pp. 527-534, March 2021.\n",
    "   :doi:`10.1109/JPHOTOV.2020.3045677`\n",
    "\n",
    "\n"
   ]
  },
  {
   "cell_type": "code",
   "execution_count": null,
   "outputs": [],
   "source": [],
   "metadata": {
    "collapsed": false
   }
  }
 ],
 "metadata": {
  "kernelspec": {
   "display_name": "Python 3",
   "language": "python",
   "name": "python3"
  },
  "language_info": {
   "codemirror_mode": {
    "name": "ipython",
    "version": 3
   },
   "file_extension": ".py",
   "mimetype": "text/x-python",
   "name": "python",
   "nbconvert_exporter": "python",
   "pygments_lexer": "ipython3",
   "version": "3.7.9"
  }
 },
 "nbformat": 4,
 "nbformat_minor": 0
}
