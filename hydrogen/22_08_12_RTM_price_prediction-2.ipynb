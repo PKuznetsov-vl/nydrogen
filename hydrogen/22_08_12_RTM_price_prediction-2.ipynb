{
 "cells": [
  {
   "cell_type": "code",
   "execution_count": null,
   "metadata": {
    "id": "b13nYpb_Vhrk",
    "pycharm": {
     "name": "#%%\n"
    }
   },
   "outputs": [],
   "source": [
    "###\n",
    "###\n",
    "###    This notebook predicts three digits: next day prices based on the day ahead market info ++, \n",
    "###\n",
    "###    Input: \n",
    "###     battery discharging time -- time during which we can sell electricity (based on the C factor)\n",
    "###     hours in advance we need to predict the prices\n",
    "###\n",
    "###    Output: \n",
    "###     1. per MW price on RTM (if we know the prices in advance)\n",
    "###     2. per MW price if we use DAM price info\n",
    "###     3. per MW price if we use our prediction\n",
    "###     4. 5-minutes shedule of RTM prices during given time slot (the latter is given as an input)\n",
    "###   \n",
    "###    Abbreviation:\n",
    "###     DAM -- day ahead market\n",
    "###     LMP -- location marginal prices\n",
    "###     MDP -- Markov Decision Processes\n",
    "###     RL  -- Reinforcement Learning\n",
    "###     RTM -- real time market\n",
    "###     \n",
    "###\n",
    "###   Tutorials: \n",
    "###     https://www.dataquest.io/blog/tutorial-time-series-analysis-with-pandas/\n",
    "###\n",
    "###\n",
    "###"
   ]
  },
  {
   "cell_type": "code",
   "execution_count": null,
   "metadata": {
    "id": "4Dzzn84W2v3z",
    "pycharm": {
     "name": "#%%\n"
    }
   },
   "outputs": [],
   "source": [
    "## battery discharge time in timeslots\n",
    "## \n",
    "battery_discharge = [12, 24, 36, 48, 60]"
   ]
  },
  {
   "cell_type": "code",
   "execution_count": null,
   "metadata": {
    "id": "PBAJNrIOYuf3",
    "pycharm": {
     "name": "#%%\n"
    }
   },
   "outputs": [],
   "source": [
    "## User input\n",
    "\n",
    "# Start date for the analysis\n",
    "date_start = '2021-04-01'\n",
    "\n",
    "# Days (interval: date_start to date_start + days)\n",
    "days = 100\n",
    "\n",
    "# Directory for datasets\n",
    "root_path = '/content/gdrive/My Drive/Consulting/2022 ZeroAvia (Maximov, Consulting)/Datasets/'"
   ]
  },
  {
   "cell_type": "code",
   "execution_count": null,
   "metadata": {
    "id": "Um437iJyVOkD",
    "colab": {
     "base_uri": "https://localhost:8080/"
    },
    "outputId": "f3410ace-7a33-4a66-8e11-544a26db404f",
    "pycharm": {
     "name": "#%%\n"
    }
   },
   "outputs": [
    {
     "output_type": "stream",
     "name": "stdout",
     "text": [
      "Looking in indexes: https://pypi.org/simple, https://us-python.pkg.dev/colab-wheels/public/simple/\n",
      "Requirement already satisfied: statsmodels in /usr/local/lib/python3.7/dist-packages (0.12.2)\n",
      "Requirement already satisfied: numpy>=1.15 in /usr/local/lib/python3.7/dist-packages (from statsmodels) (1.21.6)\n",
      "Requirement already satisfied: pandas>=0.21 in /usr/local/lib/python3.7/dist-packages (from statsmodels) (1.3.5)\n",
      "Requirement already satisfied: patsy>=0.5 in /usr/local/lib/python3.7/dist-packages (from statsmodels) (0.5.2)\n",
      "Requirement already satisfied: scipy>=1.1 in /usr/local/lib/python3.7/dist-packages (from statsmodels) (1.7.3)\n",
      "Requirement already satisfied: python-dateutil>=2.7.3 in /usr/local/lib/python3.7/dist-packages (from pandas>=0.21->statsmodels) (2.8.2)\n",
      "Requirement already satisfied: pytz>=2017.3 in /usr/local/lib/python3.7/dist-packages (from pandas>=0.21->statsmodels) (2022.2.1)\n",
      "Requirement already satisfied: six in /usr/local/lib/python3.7/dist-packages (from patsy>=0.5->statsmodels) (1.15.0)\n",
      "Drive already mounted at /content/gdrive; to attempt to forcibly remount, call drive.mount(\"/content/gdrive\", force_remount=True).\n"
     ]
    }
   ],
   "source": [
    "## Import and install necessary libraries\n",
    "import pandas as pd\n",
    "import numpy as np\n",
    "import matplotlib.pyplot as plt\n",
    "from datetime import timedelta, datetime\n",
    "\n",
    "## Data science libraries\n",
    "!pip install statsmodels\n",
    "import xgboost as xgb\n",
    "from xgboost import XGBRegressor\n",
    "from sklearn.preprocessing import LabelEncoder\n",
    "\n",
    "from sklearn.ensemble import RandomForestRegressor\n",
    "from sklearn.tree import DecisionTreeRegressor\n",
    "from sklearn.model_selection import train_test_split\n",
    "from sklearn.model_selection import cross_val_score, KFold\n",
    "\n",
    "from sklearn.metrics import confusion_matrix, ConfusionMatrixDisplay\n",
    "from sklearn.metrics import mean_squared_error, mean_absolute_error\n",
    "from sklearn.datasets import load_boston\n",
    "\n",
    "## deep learning \n",
    "from tensorflow import keras\n",
    "from tensorflow.keras import layers\n",
    "\n",
    "##from statsmodels.tsa.arima.model import ARIMA\n",
    "\n",
    "from google.colab import auth \n",
    "auth.authenticate_user()\n",
    "\n",
    "## Mount google drive\n",
    "from google.colab import drive\n",
    "drive.mount('/content/gdrive')\n",
    "\n",
    "## suspend warnings for demo purposes\n",
    "import warnings\n",
    "warnings.filterwarnings(\"ignore\")\n",
    "\n",
    "#pd.set_option('display.max_columns', None)\n",
    "\n",
    "\n",
    "## random seeds for hyperparameter fitting \n",
    "import random\n",
    "from itertools import product"
   ]
  },
  {
   "cell_type": "code",
   "execution_count": null,
   "metadata": {
    "id": "m4DlB0_VXncq",
    "colab": {
     "base_uri": "https://localhost:8080/"
    },
    "outputId": "84b22a3d-1738-4b01-d345-f246bf60753c",
    "pycharm": {
     "name": "#%%\n"
    }
   },
   "outputs": [
    {
     "output_type": "stream",
     "name": "stdout",
     "text": [
      "       INTERVALSTARTTIME_GMT        INTERVALENDTIME_GMT      OPR_DT  OPR_HR  \\\n",
      "0  2021-04-01T00:00:00-00:00  2021-04-01T00:05:00-00:00  2021-03-31      18   \n",
      "1  2021-04-01T00:05:00-00:00  2021-04-01T00:10:00-00:00  2021-03-31      18   \n",
      "2  2021-04-01T00:10:00-00:00  2021-04-01T00:15:00-00:00  2021-03-31      18   \n",
      "3  2021-04-01T00:15:00-00:00  2021-04-01T00:20:00-00:00  2021-03-31      18   \n",
      "4  2021-04-01T00:20:00-00:00  2021-04-01T00:25:00-00:00  2021-03-31      18   \n",
      "\n",
      "       NODE_ID_XML          NODE_ID             NODE MARKET_RUN_ID LMP_TYPE  \\\n",
      "0  HOLLISTR_1_N101  HOLLISTR_1_N101  HOLLISTR_1_N101           RTM      MCC   \n",
      "1  HOLLISTR_1_N101  HOLLISTR_1_N101  HOLLISTR_1_N101           RTM      MCC   \n",
      "2  HOLLISTR_1_N101  HOLLISTR_1_N101  HOLLISTR_1_N101           RTM      MCC   \n",
      "3  HOLLISTR_1_N101  HOLLISTR_1_N101  HOLLISTR_1_N101           RTM      MCC   \n",
      "4  HOLLISTR_1_N101  HOLLISTR_1_N101  HOLLISTR_1_N101           RTM      MCC   \n",
      "\n",
      "  XML_DATA_ITEM    PNODE_RESMRID GRP_TYPE  POS   MW  OPR_INTERVAL  GROUP  \n",
      "0  LMP_CONG_PRC  HOLLISTR_1_N101      ALL    1  0.0             1      1  \n",
      "1  LMP_CONG_PRC  HOLLISTR_1_N101      ALL    1  0.0             2      1  \n",
      "2  LMP_CONG_PRC  HOLLISTR_1_N101      ALL    1  0.0             3      1  \n",
      "3  LMP_CONG_PRC  HOLLISTR_1_N101      ALL    1  0.0             4      1  \n",
      "4  LMP_CONG_PRC  HOLLISTR_1_N101      ALL    1  0.0             5      1  \n",
      "       INTERVALSTARTTIME_GMT        INTERVALENDTIME_GMT      OPR_DT  OPR_HR  \\\n",
      "0  2021-04-01T04:00:00-00:00  2021-04-01T05:00:00-00:00  2021-03-31      22   \n",
      "1  2021-04-01T01:00:00-00:00  2021-04-01T02:00:00-00:00  2021-03-31      19   \n",
      "2  2021-04-01T02:00:00-00:00  2021-04-01T03:00:00-00:00  2021-03-31      20   \n",
      "3  2021-04-01T05:00:00-00:00  2021-04-01T06:00:00-00:00  2021-03-31      23   \n",
      "4  2021-04-01T03:00:00-00:00  2021-04-01T04:00:00-00:00  2021-03-31      21   \n",
      "\n",
      "   OPR_INTERVAL      NODE_ID_XML          NODE_ID             NODE  \\\n",
      "0             0  HOLLISTR_1_N101  HOLLISTR_1_N101  HOLLISTR_1_N101   \n",
      "1             0  HOLLISTR_1_N101  HOLLISTR_1_N101  HOLLISTR_1_N101   \n",
      "2             0  HOLLISTR_1_N101  HOLLISTR_1_N101  HOLLISTR_1_N101   \n",
      "3             0  HOLLISTR_1_N101  HOLLISTR_1_N101  HOLLISTR_1_N101   \n",
      "4             0  HOLLISTR_1_N101  HOLLISTR_1_N101  HOLLISTR_1_N101   \n",
      "\n",
      "  MARKET_RUN_ID LMP_TYPE XML_DATA_ITEM    PNODE_RESMRID GRP_TYPE  POS  \\\n",
      "0           DAM      LMP       LMP_PRC  HOLLISTR_1_N101      ALL    1   \n",
      "1           DAM      LMP       LMP_PRC  HOLLISTR_1_N101      ALL    1   \n",
      "2           DAM      LMP       LMP_PRC  HOLLISTR_1_N101      ALL    1   \n",
      "3           DAM      LMP       LMP_PRC  HOLLISTR_1_N101      ALL    1   \n",
      "4           DAM      LMP       LMP_PRC  HOLLISTR_1_N101      ALL    1   \n",
      "\n",
      "         MW  GROUP  \n",
      "0  52.80580      1  \n",
      "1  59.93296      1  \n",
      "2  89.20413      1  \n",
      "3  44.18685      1  \n",
      "4  66.06786      1  \n"
     ]
    }
   ],
   "source": [
    "## Upload pricing information for both RTM and DAM markets\n",
    "DAM_price = pd.read_csv(root_path+'HOLLISTR_1_N101_DAM.csv')\n",
    "RTM_price = pd.read_csv(root_path+'HOLLISTR_1_N101.csv')\n",
    "\n",
    "## filter all by LMP -- location marginal prices only\n",
    "## NB: a correct price is a sum over all, not LMP only\n",
    "\n",
    "#RTM_price = RTM_price[RTM_price['LMP_TYPE'] == 'LMP'] \n",
    "#DAM_price = DAM_price[DAM_price['LMP_TYPE'] == 'LMP'] \n",
    "\n",
    "## print what we have\n",
    "print(RTM_price.head())\n",
    "print(DAM_price.head())\n",
    "\n",
    "\n",
    "## NB: Notice, that the OPR_DR+OPR_HR+OPR_INTERVAL does not match to the time difference of the UTC timestamp (8 hours vs 7 hours)"
   ]
  },
  {
   "cell_type": "code",
   "execution_count": null,
   "metadata": {
    "id": "ejGO4B7kE1wz",
    "colab": {
     "base_uri": "https://localhost:8080/"
    },
    "outputId": "9daf7aa7-36f9-4acb-d348-3018e3d4d1e0",
    "pycharm": {
     "name": "#%%\n"
    }
   },
   "outputs": [
    {
     "output_type": "stream",
     "name": "stdout",
     "text": [
      "            OPR_DT  OPR_HR         MW  OPR_INTERVAL\n",
      "0       2021-03-31      18    0.00000             1\n",
      "1       2021-03-31      18    0.00000             2\n",
      "2       2021-03-31      18    0.00000             3\n",
      "3       2021-03-31      18    0.00000             4\n",
      "4       2021-03-31      18    0.00000             5\n",
      "...            ...     ...        ...           ...\n",
      "115195  2021-07-09      17  280.18106             8\n",
      "115196  2021-07-09      17  227.54270             9\n",
      "115197  2021-07-09      17  160.68120            10\n",
      "115198  2021-07-09      17  275.12814            11\n",
      "115199  2021-07-09      17  665.18120            12\n",
      "\n",
      "[115200 rows x 4 columns]\n",
      "           OPR_DT  OPR_HR        MW\n",
      "0      2021-03-31      22  52.80580\n",
      "1      2021-03-31      19  59.93296\n",
      "2      2021-03-31      20  89.20413\n",
      "3      2021-03-31      23  44.18685\n",
      "4      2021-03-31      21  66.06786\n",
      "...           ...     ...       ...\n",
      "11995  2021-07-09      17   0.00000\n",
      "11996  2021-07-09       1   0.00000\n",
      "11997  2021-07-09       3   0.00000\n",
      "11998  2021-07-09       7   0.00000\n",
      "11999  2021-07-09      10   0.00000\n",
      "\n",
      "[12000 rows x 3 columns]\n"
     ]
    }
   ],
   "source": [
    "## drop extra columns \n",
    "RTM_price.drop(RTM_price.columns.difference(['OPR_DT', 'OPR_HR', 'OPR_INTERVAL', 'MW']), 1, inplace=True)\n",
    "DAM_price.drop(DAM_price.columns.difference(['OPR_DT', 'OPR_HR', 'MW']), 1, inplace=True)\n",
    "\n",
    "\n",
    "print(RTM_price)\n",
    "print(DAM_price)"
   ]
  },
  {
   "cell_type": "code",
   "execution_count": null,
   "metadata": {
    "id": "N2I3P9xLG2bu",
    "colab": {
     "base_uri": "https://localhost:8080/"
    },
    "outputId": "fa3e7c6d-80d1-4886-e7b9-fd609ef3d946",
    "pycharm": {
     "name": "#%%\n"
    }
   },
   "outputs": [
    {
     "output_type": "stream",
     "name": "stdout",
     "text": [
      "                             MW\n",
      "OPR_DT                         \n",
      "2021-04-01 00:00:00     0.02090\n",
      "2021-04-01 00:05:00     0.02085\n",
      "2021-04-01 00:10:00     8.83622\n",
      "2021-04-01 00:15:00    33.83907\n",
      "2021-04-01 00:20:00    36.56618\n",
      "...                         ...\n",
      "2021-07-09 23:35:00   560.36212\n",
      "2021-07-09 23:40:00   455.08539\n",
      "2021-07-09 23:45:00   321.36240\n",
      "2021-07-09 23:50:00   550.25627\n",
      "2021-07-09 23:55:00  1330.36240\n",
      "\n",
      "[28800 rows x 1 columns]\n"
     ]
    }
   ],
   "source": [
    "## Convert RTM in 5 mins schedule\n",
    "\n",
    "# TODO: more efficient way?\n",
    "RTM_price['OPR_DT'] = RTM_price['OPR_DT'].astype(str) + ' ' + (RTM_price['OPR_HR'] -1).astype(str) + ':' + (5*RTM_price['OPR_INTERVAL'] -5).astype(str)\n",
    "RTM_price['OPR_DT'] = pd.to_datetime(RTM_price['OPR_DT'], format='%Y-%m-%d %H:%M')\n",
    "RTM_price['OPR_DT'] = RTM_price['OPR_DT'] + pd.Timedelta(7, unit=\"h\")\n",
    "RTM_price.drop(RTM_price.columns.difference(['OPR_DT', 'MW']), 1, inplace=True)\n",
    "RTM_price = RTM_price.groupby(['OPR_DT']).sum()\n",
    "print(RTM_price)"
   ]
  },
  {
   "cell_type": "code",
   "execution_count": null,
   "metadata": {
    "id": "95wNW_yMK-Jn",
    "colab": {
     "base_uri": "https://localhost:8080/"
    },
    "outputId": "e50c04fc-778f-4922-dbdb-ebd95bd6e96c",
    "pycharm": {
     "name": "#%%\n"
    }
   },
   "outputs": [
    {
     "output_type": "stream",
     "name": "stdout",
     "text": [
      "                   OPR_DT          MW\n",
      "0     2021-04-01 00:00:00     0.02090\n",
      "1     2021-04-01 00:05:00     0.02085\n",
      "2     2021-04-01 00:10:00     8.83622\n",
      "3     2021-04-01 00:15:00    33.83907\n",
      "4     2021-04-01 00:20:00    36.56618\n",
      "...                   ...         ...\n",
      "28795 2021-07-09 23:35:00   560.36212\n",
      "28796 2021-07-09 23:40:00   455.08539\n",
      "28797 2021-07-09 23:45:00   321.36240\n",
      "28798 2021-07-09 23:50:00   550.25627\n",
      "28799 2021-07-09 23:55:00  1330.36240\n",
      "\n",
      "[28800 rows x 2 columns]\n"
     ]
    }
   ],
   "source": [
    "## reset index for operational convenience\n",
    "RTM_price = RTM_price.reset_index()\n",
    "print(RTM_price)"
   ]
  },
  {
   "cell_type": "code",
   "execution_count": null,
   "metadata": {
    "id": "FqF68fQUI1hi",
    "pycharm": {
     "name": "#%%\n"
    }
   },
   "outputs": [],
   "source": [
    "\n"
   ]
  },
  {
   "cell_type": "code",
   "execution_count": null,
   "metadata": {
    "id": "bofdbC3bH5wR",
    "colab": {
     "base_uri": "https://localhost:8080/"
    },
    "outputId": "2c16d46a-e6ea-46fc-9dd6-901a469f112e",
    "pycharm": {
     "name": "#%%\n"
    }
   },
   "outputs": [
    {
     "output_type": "stream",
     "name": "stdout",
     "text": [
      "                   OPR_DT         MW\n",
      "0     2021-04-01 00:00:00   76.59346\n",
      "1     2021-04-01 00:05:00   76.59346\n",
      "2     2021-04-01 00:10:00   76.59346\n",
      "3     2021-04-01 00:15:00   76.59346\n",
      "4     2021-04-01 00:20:00   76.59346\n",
      "...                   ...        ...\n",
      "28795 2021-07-09 23:35:00  168.94492\n",
      "28796 2021-07-09 23:40:00  168.94492\n",
      "28797 2021-07-09 23:45:00  168.94492\n",
      "28798 2021-07-09 23:50:00  168.94492\n",
      "28799 2021-07-09 23:55:00  168.94492\n",
      "\n",
      "[28800 rows x 2 columns]\n"
     ]
    }
   ],
   "source": [
    "## Convert DAM in 5 mins schedule\n",
    "DAM_price['OPR_DT'] = DAM_price['OPR_DT'].astype(str) + ' ' + (DAM_price['OPR_HR'] -1).astype(str)+':00'\n",
    "DAM_price['OPR_DT'] = pd.to_datetime(DAM_price['OPR_DT'], format='%Y-%m-%d %H:%M')\n",
    "\n",
    "# time shift SFO - Greenwich + 1\n",
    "DAM_price['OPR_DT'] = DAM_price['OPR_DT'] + pd.Timedelta(7, unit=\"h\")\n",
    "DAM_price = DAM_price.sort_values('OPR_DT', ascending=True)\n",
    "DAM_price = DAM_price.groupby(['OPR_DT']).sum()\n",
    "DAM_price = DAM_price.reset_index()\n",
    "\n",
    "## add one more row at the end for correct scheduling (otherwise the last hour will not be splitted)\n",
    "row = DAM_price.iloc[-1]\n",
    "row['OPR_DT'] = row['OPR_DT'] + pd.Timedelta(1, unit=\"h\")\n",
    "DAM_price = DAM_price.append(row, ignore_index = False)\n",
    "\n",
    "\n",
    "## return index to date-time\n",
    "DAM_price['OPR_DT'] = pd.to_datetime(DAM_price['OPR_DT'])\n",
    "DAM_price = DAM_price[['OPR_DT','MW']]\n",
    "DAM_price.set_index('OPR_DT', inplace=True)\n",
    "\n",
    "## split into 5 mins intervals\n",
    "DAM_price = DAM_price.resample('5T').asfreq()\n",
    "\n",
    "## fill NANs in the schedule\n",
    "DAM_price.fillna(method='ffill', inplace=True)\n",
    "DAM_price.drop(DAM_price.tail(1).index,inplace=True)\n",
    "\n",
    "# reset index for RTM/DAM compatibility\n",
    "DAM_price = DAM_price.reset_index()\n",
    "\n",
    "print(DAM_price)\n",
    "\n"
   ]
  },
  {
   "cell_type": "code",
   "execution_count": null,
   "metadata": {
    "id": "UmHlNQcAChr8",
    "pycharm": {
     "name": "#%%\n"
    }
   },
   "outputs": [],
   "source": [
    "RTM_price.to_csv(root_path+'Hollister_RTM_220401-220709_5min.csv', index=False)\n",
    "DAM_price.to_csv(root_path+'Hollister_DAM_220401-220709_5min.csv', index=False)"
   ]
  },
  {
   "cell_type": "code",
   "execution_count": null,
   "metadata": {
    "id": "fuURYxjWZJwf",
    "colab": {
     "base_uri": "https://localhost:8080/",
     "height": 265
    },
    "outputId": "e3608f83-5ef4-4239-b330-ad336048243b",
    "pycharm": {
     "name": "#%%\n"
    }
   },
   "outputs": [
    {
     "output_type": "display_data",
     "data": {
      "text/plain": [
       "<Figure size 432x288 with 1 Axes>"
      ],
      "image/png": "[encoded data removed]"
     },
     "metadata": {
      "needs_background": "light"
     }
    }
   ],
   "source": [
    "## feature from Ro\n",
    "\n",
    "## sort before plot\n",
    "RTM_price = RTM_price.sort_values('OPR_DT', ascending=True)\n",
    "DAM_price = DAM_price.sort_values('OPR_DT', ascending=True)\n",
    "# -7 is a systematic time shift SFO - Greenwich + 1\n",
    "plt.plot(np.arange(0,300)/24 - 7 + 24, RTM_price.head(300)['MW'], 'r', label = 'RTM')\n",
    "plt.plot(np.arange(0,300)/24 - 7 + 24, DAM_price.head(300)['MW'], 'b', label = 'DAM')\n",
    "plt.legend()\n",
    "plt.show()"
   ]
  },
  {
   "cell_type": "code",
   "execution_count": null,
   "metadata": {
    "id": "U3ihk_dtet3S",
    "colab": {
     "base_uri": "https://localhost:8080/"
    },
    "outputId": "e4a1b5c1-59ca-4790-f75e-59417d8ff3b5",
    "pycharm": {
     "name": "#%%\n"
    }
   },
   "outputs": [
    {
     "output_type": "stream",
     "name": "stdout",
     "text": [
      "                   OPR_DT          MW\n",
      "0     2021-04-01 00:00:00     0.02090\n",
      "1     2021-04-01 00:05:00     0.02085\n",
      "2     2021-04-01 00:10:00     8.83622\n",
      "3     2021-04-01 00:15:00    33.83907\n",
      "4     2021-04-01 00:20:00    36.56618\n",
      "...                   ...         ...\n",
      "28795 2021-07-09 23:35:00   560.36212\n",
      "28796 2021-07-09 23:40:00   455.08539\n",
      "28797 2021-07-09 23:45:00   321.36240\n",
      "28798 2021-07-09 23:50:00   550.25627\n",
      "28799 2021-07-09 23:55:00  1330.36240\n",
      "\n",
      "[28800 rows x 2 columns]\n",
      "                   OPR_DT         MW\n",
      "0     2021-04-01 00:00:00   76.59346\n",
      "1     2021-04-01 00:05:00   76.59346\n",
      "2     2021-04-01 00:10:00   76.59346\n",
      "3     2021-04-01 00:15:00   76.59346\n",
      "4     2021-04-01 00:20:00   76.59346\n",
      "...                   ...        ...\n",
      "28795 2021-07-09 23:35:00  168.94492\n",
      "28796 2021-07-09 23:40:00  168.94492\n",
      "28797 2021-07-09 23:45:00  168.94492\n",
      "28798 2021-07-09 23:50:00  168.94492\n",
      "28799 2021-07-09 23:55:00  168.94492\n",
      "\n",
      "[28800 rows x 2 columns]\n"
     ]
    }
   ],
   "source": [
    "# TODO: Uplift\n",
    "\n",
    "\n",
    "print(RTM_price)\n",
    "print(DAM_price)\n",
    "\n"
   ]
  },
  {
   "cell_type": "code",
   "execution_count": null,
   "metadata": {
    "id": "AVV7sx2wKMw1",
    "colab": {
     "base_uri": "https://localhost:8080/",
     "height": 268
    },
    "outputId": "5aa6cc8b-ac43-467f-c106-5dd475c60b42",
    "pycharm": {
     "name": "#%%\n"
    }
   },
   "outputs": [
    {
     "output_type": "display_data",
     "data": {
      "text/plain": [
       "<Figure size 432x288 with 1 Axes>"
      ],
      "image/png": "[encoded data removed]"
     },
     "metadata": {
      "needs_background": "light"
     }
    }
   ],
   "source": [
    "## Engineering data for prediction\n",
    "##\n",
    "## Prepare train and test sets\n",
    "\n",
    "\n",
    "# prepare the dataset\n",
    "\n",
    "# we will add for N days \n",
    "# - DAM information (legal), (time tick +/1 two intervals)\n",
    "# - split date-time separately in month vs day vs \n",
    "# - weekday vs weekend\n",
    "# - hours (nominal)\n",
    "# - RTM information (up to now) N days * 24 hours * 12 timestamps\n",
    "\n",
    "X = RTM_price.copy()\n",
    "\n",
    "# always predict the difference once you have a reasonable fit\n",
    "X['MW'] =  X['MW'] #- DAM_price['MW']\n",
    "time_steps = 8000\n",
    "\n",
    "# plot to understand the data\n",
    "plt.plot(np.arange(0,time_steps)/24 - 7 + 24, X.head(time_steps)['MW'], 'b', label = 'RTM-DAM')\n",
    "plt.show()"
   ]
  },
  {
   "cell_type": "code",
   "execution_count": null,
   "metadata": {
    "id": "ujTHuOmM1glk",
    "colab": {
     "base_uri": "https://localhost:8080/",
     "height": 316
    },
    "outputId": "f26fe316-e694-4c7b-b265-a988fa70136c",
    "pycharm": {
     "name": "#%%\n"
    }
   },
   "outputs": [
    {
     "output_type": "stream",
     "name": "stdout",
     "text": [
      "-226.80054\n",
      "-0.1262845 212.19514639999971\n",
      "-226.80054 2342.15825\n"
     ]
    },
    {
     "output_type": "display_data",
     "data": {
      "text/plain": [
       "<Figure size 432x288 with 1 Axes>"
      ],
      "image/png": "[encoded data removed]"
     },
     "metadata": {
      "needs_background": "light"
     }
    }
   ],
   "source": [
    "## filter sample for outliers\n",
    "print(np.min(X['MW']))\n",
    "\n",
    "## we do not remove outliers, instead we change peaks to quantile values\n",
    "q_low = X['MW'].quantile(0.01)\n",
    "q_hi  = X['MW'].quantile(0.99)\n",
    "\n",
    "print(q_low, q_hi)\n",
    "print(np.min(X['MW']), np.max(X['MW']))\n",
    "\n",
    "## substitute min-max values with quantiles\n",
    "X.loc[X['MW'] > q_hi, 'MW'] = q_hi\n",
    "X.loc[X['MW'] < q_low, 'MW'] = q_low\n",
    "\n",
    "\n",
    "## or just remove them\n",
    "## X = X.drop(X[X['MW'] < q_low].index)\n",
    "## X = X.drop(X[X['MW'] < q_hi].index)\n",
    "\n",
    "# the histogram of the data\n",
    "num_bins = 50\n",
    "n, bins, patches = plt.hist(X['MW'], num_bins, facecolor='blue', alpha=0.5)\n",
    "plt.show()"
   ]
  },
  {
   "cell_type": "code",
   "execution_count": null,
   "metadata": {
    "id": "aE-MqbFMbgXP",
    "pycharm": {
     "name": "#%%\n"
    }
   },
   "outputs": [],
   "source": []
  },
  {
   "cell_type": "code",
   "execution_count": null,
   "metadata": {
    "id": "3EjyZIIJbz01",
    "pycharm": {
     "name": "#%%\n"
    }
   },
   "outputs": [],
   "source": []
  },
  {
   "cell_type": "code",
   "execution_count": null,
   "metadata": {
    "id": "glpYPy3QP6HF",
    "colab": {
     "base_uri": "https://localhost:8080/"
    },
    "outputId": "73f1f612-e9df-45d8-c194-124d3a8ccd62",
    "pycharm": {
     "name": "#%%\n"
    }
   },
   "outputs": [
    {
     "output_type": "stream",
     "name": "stdout",
     "text": [
      "212.19514639999971\n",
      "212.19514639999971\n"
     ]
    }
   ],
   "source": [
    "print(X['MW'].quantile(0.9995))\n",
    "print(X['MW'].quantile(0.99999))\n",
    "\n"
   ]
  },
  {
   "cell_type": "code",
   "execution_count": null,
   "metadata": {
    "id": "0l9JrmKMiNYB",
    "colab": {
     "base_uri": "https://localhost:8080/"
    },
    "outputId": "0f2665a7-d806-4bac-91ff-0bdd0e004479",
    "pycharm": {
     "name": "#%%\n"
    }
   },
   "outputs": [
    {
     "output_type": "stream",
     "name": "stdout",
     "text": [
      "                   OPR_DT          MW  month  hour  dayofweek  weekday\n",
      "0     2021-04-01 00:00:00    0.020900      4     0          3        3\n",
      "1     2021-04-01 00:05:00    0.020850      4     0          3        3\n",
      "2     2021-04-01 00:10:00    8.836220      4     0          3        3\n",
      "3     2021-04-01 00:15:00   33.839070      4     0          3        3\n",
      "4     2021-04-01 00:20:00   36.566180      4     0          3        3\n",
      "...                   ...         ...    ...   ...        ...      ...\n",
      "28795 2021-07-09 23:35:00  212.195146      7    23          4        4\n",
      "28796 2021-07-09 23:40:00  212.195146      7    23          4        4\n",
      "28797 2021-07-09 23:45:00  212.195146      7    23          4        4\n",
      "28798 2021-07-09 23:50:00  212.195146      7    23          4        4\n",
      "28799 2021-07-09 23:55:00  212.195146      7    23          4        4\n",
      "\n",
      "[28800 rows x 6 columns]\n"
     ]
    }
   ],
   "source": [
    "## Adding basic date-time features\n",
    "## not in a separate function to simplify the demo\n",
    "X['month'] = X['OPR_DT'].dt.month\n",
    "X['hour'] = X['OPR_DT'].dt.hour\n",
    "X['dayofweek'] = X['OPR_DT'].dt.dayofweek\n",
    "X['month'] = X['OPR_DT'].dt.month\n",
    "X['weekday'] = X['OPR_DT'].dt.weekday\n",
    "\n",
    "\n",
    "print(X)"
   ]
  },
  {
   "cell_type": "code",
   "execution_count": null,
   "metadata": {
    "id": "9I92W0awatv_",
    "pycharm": {
     "name": "#%%\n"
    }
   },
   "outputs": [],
   "source": []
  },
  {
   "cell_type": "code",
   "execution_count": null,
   "metadata": {
    "id": "_r4ZrkUUj5p1",
    "colab": {
     "base_uri": "https://localhost:8080/"
    },
    "outputId": "20878986-ad85-4069-b4cd-daad8d4f1b14",
    "pycharm": {
     "name": "#%%\n"
    }
   },
   "outputs": [
    {
     "output_type": "stream",
     "name": "stdout",
     "text": [
      "               MW  month  hour  dayofweek  weekday     lag_15  lag_RTM_15  \\\n",
      "0        0.020900      4     0          3        3        NaN         NaN   \n",
      "1        0.020850      4     0          3        3        NaN         NaN   \n",
      "2        8.836220      4     0          3        3        NaN         NaN   \n",
      "3       33.839070      4     0          3        3        NaN         NaN   \n",
      "4       36.566180      4     0          3        3        NaN         NaN   \n",
      "...           ...    ...   ...        ...      ...        ...         ...   \n",
      "28795  212.195146      7    23          4        4  167.60476   167.60476   \n",
      "28796  212.195146      7    23          4        4  180.82472   180.82472   \n",
      "28797  212.195146      7    23          4        4  180.98219   180.98219   \n",
      "28798  212.195146      7    23          4        4  173.61132   173.61132   \n",
      "28799  212.195146      7    23          4        4  167.93316   167.93316   \n",
      "\n",
      "          lag_16  lag_RTM_16     lag_17  ...  lag_RTM_572   lag_573  \\\n",
      "0            NaN         NaN        NaN  ...          NaN       NaN   \n",
      "1            NaN         NaN        NaN  ...          NaN       NaN   \n",
      "2            NaN         NaN        NaN  ...          NaN       NaN   \n",
      "3            NaN         NaN        NaN  ...          NaN       NaN   \n",
      "4            NaN         NaN        NaN  ...          NaN       NaN   \n",
      "...          ...         ...        ...  ...          ...       ...   \n",
      "28795  166.00000   166.00000  190.00240  ...     96.62314  96.51420   \n",
      "28796  167.60476   167.60476  166.00000  ...     80.68281  96.62314   \n",
      "28797  180.82472   180.82472  167.60476  ...     80.09101  80.68281   \n",
      "28798  180.98219   180.98219  180.82472  ...     80.97091  80.09101   \n",
      "28799  173.61132   173.61132  180.98219  ...     83.61875  80.97091   \n",
      "\n",
      "       lag_RTM_573   lag_574  lag_RTM_574   lag_575  lag_RTM_575  lag_DAM_0  \\\n",
      "0              NaN       NaN          NaN       NaN          NaN   76.59346   \n",
      "1              NaN       NaN          NaN       NaN          NaN   76.59346   \n",
      "2              NaN       NaN          NaN       NaN          NaN   76.59346   \n",
      "3              NaN       NaN          NaN       NaN          NaN   76.59346   \n",
      "4              NaN       NaN          NaN       NaN          NaN   76.59346   \n",
      "...            ...       ...          ...       ...          ...        ...   \n",
      "28795     96.51420  92.15336     92.15336  83.25520     83.25520  168.94492   \n",
      "28796     96.62314  96.51420     96.51420  92.15336     92.15336  168.94492   \n",
      "28797     80.68281  96.62314     96.62314  96.51420     96.51420  168.94492   \n",
      "28798     80.09101  80.68281     80.68281  96.62314     96.62314  168.94492   \n",
      "28799     80.97091  80.09101     80.09101  80.68281     80.68281  168.94492   \n",
      "\n",
      "       lag_DAM_3  lag_DAM_-3  \n",
      "0            NaN    76.59346  \n",
      "1            NaN    76.59346  \n",
      "2            NaN    76.59346  \n",
      "3       76.59346    76.59346  \n",
      "4       76.59346    76.59346  \n",
      "...          ...         ...  \n",
      "28795  168.94492   168.94492  \n",
      "28796  168.94492   168.94492  \n",
      "28797  168.94492         NaN  \n",
      "28798  168.94492         NaN  \n",
      "28799  168.94492         NaN  \n",
      "\n",
      "[28800 rows x 1130 columns]\n"
     ]
    }
   ],
   "source": [
    "## Add past features: LAGS\n",
    "## lag_t = t timestamps back\n",
    "## hour = 12\n",
    "## day = 288\n",
    "## week = 2016\n",
    "\n",
    "## TODO: convert to lambda expression, cycle for illustrative power\n",
    "lag_week = 2016\n",
    "lag_day = 288\n",
    "lag_hour = 12\n",
    "lag_5min = 1\n",
    "\n",
    "## with the RTM market we are not allowed to take use at least today's values \n",
    "## but probably 24 h in front (need to clarify when the prices are announced)\n",
    "## \n",
    "## Anyway for real-time one better to use RL/MDP setup\n",
    "## \n",
    "\n",
    "offset = lag_hour\n",
    "\n",
    "## Fill in past values for RTM market\n",
    "for i in range(3*lag_5min+lag_hour, 2*lag_day):\n",
    "  X['lag_' + str(i)] = X['MW'].shift(i)\n",
    "  X['lag_RTM_' + str(i)] = RTM_price['MW'].shift(i)\n",
    "\n",
    "## Fill in values for DAM\n",
    "## I would say that what make sense -- is the price for now, plus/minus 15 minutes\n",
    "for i in [0, 3, -3]:\n",
    "  X['lag_DAM_'+str(i)] = DAM_price['MW'].shift(i)\n",
    "\n",
    "## Add expanding window averages\n",
    "#data['expanding_mean'] = data['Count'].expanding(2).mean()\n",
    "#data = data[['Datetime','Count', 'expanding_mean']]\n",
    "#data.head(10)\n",
    "# https://www.analyticsvidhya.com/blog/2019/12/6-powerful-feature-engineering-techniques-time-series/\n",
    "\n",
    "X = X.drop(['OPR_DT'], axis=1)\n",
    "\n",
    "print(X)"
   ]
  },
  {
   "cell_type": "code",
   "execution_count": null,
   "metadata": {
    "id": "iJUbc-b643-g",
    "colab": {
     "base_uri": "https://localhost:8080/"
    },
    "outputId": "e523170d-8f19-4d78-c7ff-0c9333268a49",
    "pycharm": {
     "name": "#%%\n"
    }
   },
   "outputs": [
    {
     "output_type": "stream",
     "name": "stdout",
     "text": [
      "               MW  month  hour  dayofweek  weekday     lag_15  lag_RTM_15  \\\n",
      "575     34.935200      4    23          4        4   28.05858    28.05858   \n",
      "576     50.223840      4     0          5        5   34.08408    34.08408   \n",
      "577     50.223840      4     0          5        5   33.69686    33.69686   \n",
      "578     50.223840      4     0          5        5   31.78468    31.78468   \n",
      "579     50.223840      4     0          5        5   18.75553    18.75553   \n",
      "...           ...    ...   ...        ...      ...        ...         ...   \n",
      "28792  212.195146      7    23          4        4  190.00240   190.00240   \n",
      "28793  212.195146      7    23          4        4  190.00240   190.00240   \n",
      "28794  212.195146      7    23          4        4  166.00000   166.00000   \n",
      "28795  212.195146      7    23          4        4  167.60476   167.60476   \n",
      "28796  212.195146      7    23          4        4  180.82472   180.82472   \n",
      "\n",
      "          lag_16  lag_RTM_16     lag_17  ...  lag_RTM_572   lag_573  \\\n",
      "575     -0.00252    -0.00252   -0.00252  ...     33.83907   8.83622   \n",
      "576     28.05858    28.05858   -0.00252  ...     36.56618  33.83907   \n",
      "577     34.08408    34.08408   28.05858  ...     40.78256  36.56618   \n",
      "578     33.69686    33.69686   34.08408  ...     45.38038  40.78256   \n",
      "579     31.78468    31.78468   33.69686  ...     52.16950  45.38038   \n",
      "...          ...         ...        ...  ...          ...       ...   \n",
      "28792  200.89632   200.89632  207.60000  ...     83.25520  81.73007   \n",
      "28793  190.00240   190.00240  200.89632  ...     92.15336  83.25520   \n",
      "28794  190.00240   190.00240  190.00240  ...     96.51420  92.15336   \n",
      "28795  166.00000   166.00000  190.00240  ...     96.62314  96.51420   \n",
      "28796  167.60476   167.60476  166.00000  ...     80.68281  96.62314   \n",
      "\n",
      "       lag_RTM_573   lag_574  lag_RTM_574   lag_575  lag_RTM_575  lag_DAM_0  \\\n",
      "575        8.83622   0.02085      0.02085   0.02090      0.02090   54.76775   \n",
      "576       33.83907   8.83622      8.83622   0.02085      0.02085   66.53637   \n",
      "577       36.56618  33.83907     33.83907   8.83622      8.83622   66.53637   \n",
      "578       40.78256  36.56618     36.56618  33.83907     33.83907   66.53637   \n",
      "579       45.38038  40.78256     40.78256  36.56618     36.56618   66.53637   \n",
      "...            ...       ...          ...       ...          ...        ...   \n",
      "28792     81.73007  81.20692     81.20692  81.47513     81.47513  168.94492   \n",
      "28793     83.25520  81.73007     81.73007  81.20692     81.20692  168.94492   \n",
      "28794     92.15336  83.25520     83.25520  81.73007     81.73007  168.94492   \n",
      "28795     96.51420  92.15336     92.15336  83.25520     83.25520  168.94492   \n",
      "28796     96.62314  96.51420     96.51420  92.15336     92.15336  168.94492   \n",
      "\n",
      "       lag_DAM_3  lag_DAM_-3  \n",
      "575     54.76775    66.53637  \n",
      "576     54.76775    66.53637  \n",
      "577     54.76775    66.53637  \n",
      "578     54.76775    66.53637  \n",
      "579     66.53637    66.53637  \n",
      "...          ...         ...  \n",
      "28792  168.94492   168.94492  \n",
      "28793  168.94492   168.94492  \n",
      "28794  168.94492   168.94492  \n",
      "28795  168.94492   168.94492  \n",
      "28796  168.94492   168.94492  \n",
      "\n",
      "[28222 rows x 1130 columns]\n"
     ]
    }
   ],
   "source": [
    "# ML can not work with datetime format, drop it off\n",
    "X = X.dropna(axis='rows')\n",
    "\n",
    "print(X)"
   ]
  },
  {
   "cell_type": "code",
   "execution_count": null,
   "metadata": {
    "id": "023S4g5CcW2i",
    "colab": {
     "base_uri": "https://localhost:8080/"
    },
    "outputId": "ceed9efe-ba92-4948-f65e-ae6f1adcb483",
    "pycharm": {
     "name": "#%%\n"
    }
   },
   "outputs": [
    {
     "output_type": "stream",
     "name": "stdout",
     "text": [
      "71.7444\n",
      "               MW  month  hour  dayofweek  weekday     lag_15  lag_RTM_15  \\\n",
      "597     81.482400      4     1          5        5   47.41760    47.41760   \n",
      "598     81.482400      4     1          5        5   52.65520    52.65520   \n",
      "599     81.482400      4     1          5        5   60.66000    60.66000   \n",
      "600     81.482400      4     2          5        5   68.58000    68.58000   \n",
      "601     81.482400      4     2          5        5   70.01760    70.01760   \n",
      "...           ...    ...   ...        ...      ...        ...         ...   \n",
      "28792  212.195146      7    23          4        4  190.00240   190.00240   \n",
      "28793  212.195146      7    23          4        4  190.00240   190.00240   \n",
      "28794  212.195146      7    23          4        4  166.00000   166.00000   \n",
      "28795  212.195146      7    23          4        4  167.60476   167.60476   \n",
      "28796  212.195146      7    23          4        4  180.82472   180.82472   \n",
      "\n",
      "          lag_16  lag_RTM_16     lag_17  ...  lag_RTM_572   lag_573  \\\n",
      "597     49.28328    49.28328   50.22384  ...     78.19340  82.55392   \n",
      "598     47.41760    47.41760   49.28328  ...     75.69158  78.19340   \n",
      "599     52.65520    52.65520   47.41760  ...     76.22926  75.69158   \n",
      "600     60.66000    60.66000   52.65520  ...     79.54362  76.22926   \n",
      "601     68.58000    68.58000   60.66000  ...     82.50408  79.54362   \n",
      "...          ...         ...        ...  ...          ...       ...   \n",
      "28792  200.89632   200.89632  207.60000  ...     83.25520  81.73007   \n",
      "28793  190.00240   190.00240  200.89632  ...     92.15336  83.25520   \n",
      "28794  190.00240   190.00240  190.00240  ...     96.51420  92.15336   \n",
      "28795  166.00000   166.00000  190.00240  ...     96.62314  96.51420   \n",
      "28796  167.60476   167.60476  166.00000  ...     80.68281  96.62314   \n",
      "\n",
      "       lag_RTM_573    lag_574  lag_RTM_574    lag_575  lag_RTM_575  lag_DAM_0  \\\n",
      "597       82.55392  108.60558    108.60558  110.73128    110.73128   93.85593   \n",
      "598       78.19340   82.55392     82.55392  108.60558    108.60558   93.85593   \n",
      "599       75.69158   78.19340     78.19340   82.55392     82.55392   93.85593   \n",
      "600       76.22926   75.69158     75.69158   78.19340     78.19340  127.88477   \n",
      "601       79.54362   76.22926     76.22926   75.69158     75.69158  127.88477   \n",
      "...            ...        ...          ...        ...          ...        ...   \n",
      "28792     81.73007   81.20692     81.20692   81.47513     81.47513  168.94492   \n",
      "28793     83.25520   81.73007     81.73007   81.20692     81.20692  168.94492   \n",
      "28794     92.15336   83.25520     83.25520   81.73007     81.73007  168.94492   \n",
      "28795     96.51420   92.15336     92.15336   83.25520     83.25520  168.94492   \n",
      "28796     96.62314   96.51420     96.51420   92.15336     92.15336  168.94492   \n",
      "\n",
      "       lag_DAM_3  lag_DAM_-3  \n",
      "597     93.85593   127.88477  \n",
      "598     93.85593   127.88477  \n",
      "599     93.85593   127.88477  \n",
      "600     93.85593   127.88477  \n",
      "601     93.85593   127.88477  \n",
      "...          ...         ...  \n",
      "28792  168.94492   168.94492  \n",
      "28793  168.94492   168.94492  \n",
      "28794  168.94492   168.94492  \n",
      "28795  168.94492   168.94492  \n",
      "28796  168.94492   168.94492  \n",
      "\n",
      "[14111 rows x 1130 columns]\n"
     ]
    }
   ],
   "source": [
    "# We are not interesting in small prices, only in the large ones -- drop rows that stand for small prices\n",
    "q_med = X['MW'].quantile(0.5)\n",
    "X = X[X['MW'] >= q_med]\n",
    "print(q_med)\n",
    "\n",
    "print(X)"
   ]
  },
  {
   "cell_type": "code",
   "execution_count": null,
   "metadata": {
    "id": "TY4jKyUSoxYi",
    "colab": {
     "base_uri": "https://localhost:8080/"
    },
    "outputId": "90484f9c-dd85-4842-8dcc-57dba58e03b7",
    "pycharm": {
     "name": "#%%\n"
    }
   },
   "outputs": [
    {
     "output_type": "stream",
     "name": "stdout",
     "text": [
      "       month  hour  dayofweek  weekday     lag_15  lag_RTM_15     lag_16  \\\n",
      "597        4     1          5        5   47.41760    47.41760   49.28328   \n",
      "598        4     1          5        5   52.65520    52.65520   47.41760   \n",
      "599        4     1          5        5   60.66000    60.66000   52.65520   \n",
      "600        4     2          5        5   68.58000    68.58000   60.66000   \n",
      "601        4     2          5        5   70.01760    70.01760   68.58000   \n",
      "...      ...   ...        ...      ...        ...         ...        ...   \n",
      "28792      7    23          4        4  190.00240   190.00240  200.89632   \n",
      "28793      7    23          4        4  190.00240   190.00240  190.00240   \n",
      "28794      7    23          4        4  166.00000   166.00000  190.00240   \n",
      "28795      7    23          4        4  167.60476   167.60476  166.00000   \n",
      "28796      7    23          4        4  180.82472   180.82472  167.60476   \n",
      "\n",
      "       lag_RTM_16     lag_17  lag_RTM_17  ...  lag_RTM_572   lag_573  \\\n",
      "597      49.28328   50.22384    50.22384  ...     78.19340  82.55392   \n",
      "598      47.41760   49.28328    49.28328  ...     75.69158  78.19340   \n",
      "599      52.65520   47.41760    47.41760  ...     76.22926  75.69158   \n",
      "600      60.66000   52.65520    52.65520  ...     79.54362  76.22926   \n",
      "601      68.58000   60.66000    60.66000  ...     82.50408  79.54362   \n",
      "...           ...        ...         ...  ...          ...       ...   \n",
      "28792   200.89632  207.60000   207.60000  ...     83.25520  81.73007   \n",
      "28793   190.00240  200.89632   200.89632  ...     92.15336  83.25520   \n",
      "28794   190.00240  190.00240   190.00240  ...     96.51420  92.15336   \n",
      "28795   166.00000  190.00240   190.00240  ...     96.62314  96.51420   \n",
      "28796   167.60476  166.00000   166.00000  ...     80.68281  96.62314   \n",
      "\n",
      "       lag_RTM_573    lag_574  lag_RTM_574    lag_575  lag_RTM_575  lag_DAM_0  \\\n",
      "597       82.55392  108.60558    108.60558  110.73128    110.73128   93.85593   \n",
      "598       78.19340   82.55392     82.55392  108.60558    108.60558   93.85593   \n",
      "599       75.69158   78.19340     78.19340   82.55392     82.55392   93.85593   \n",
      "600       76.22926   75.69158     75.69158   78.19340     78.19340  127.88477   \n",
      "601       79.54362   76.22926     76.22926   75.69158     75.69158  127.88477   \n",
      "...            ...        ...          ...        ...          ...        ...   \n",
      "28792     81.73007   81.20692     81.20692   81.47513     81.47513  168.94492   \n",
      "28793     83.25520   81.73007     81.73007   81.20692     81.20692  168.94492   \n",
      "28794     92.15336   83.25520     83.25520   81.73007     81.73007  168.94492   \n",
      "28795     96.51420   92.15336     92.15336   83.25520     83.25520  168.94492   \n",
      "28796     96.62314   96.51420     96.51420   92.15336     92.15336  168.94492   \n",
      "\n",
      "       lag_DAM_3  lag_DAM_-3  \n",
      "597     93.85593   127.88477  \n",
      "598     93.85593   127.88477  \n",
      "599     93.85593   127.88477  \n",
      "600     93.85593   127.88477  \n",
      "601     93.85593   127.88477  \n",
      "...          ...         ...  \n",
      "28792  168.94492   168.94492  \n",
      "28793  168.94492   168.94492  \n",
      "28794  168.94492   168.94492  \n",
      "28795  168.94492   168.94492  \n",
      "28796  168.94492   168.94492  \n",
      "\n",
      "[14111 rows x 1129 columns]\n"
     ]
    }
   ],
   "source": [
    "## setup labels\n",
    "Y = X['MW']\n",
    "X.drop(['MW'], axis=1, inplace=True)\n",
    "## Remove all rows with NANs instead of filling them to prevent bias\n",
    "X = X.dropna(axis='rows')\n",
    "\n",
    "print(X)\n",
    "\n",
    "## Split train, validation and test\n",
    "train_size = int(len(X)*.6)\n",
    "val_size =  int(len(X)*.2)\n",
    "X_train = X.head(n=train_size)\n",
    "Y_train = Y.head(n=train_size)\n",
    "\n",
    "X_val = X.iloc[train_size:train_size + val_size, :]\n",
    "Y_val = Y.iloc[train_size:train_size + val_size]\n",
    "\n",
    "X_test = X.tail(n=len(X) - train_size - val_size)\n",
    "Y_test = Y.tail(n=len(Y) - train_size - val_size)"
   ]
  },
  {
   "cell_type": "code",
   "execution_count": null,
   "metadata": {
    "id": "d9u2BFFR7Td_",
    "colab": {
     "base_uri": "https://localhost:8080/"
    },
    "outputId": "9d69af4c-668a-4e4a-c199-395fde5bc5c8",
    "pycharm": {
     "name": "#%%\n"
    }
   },
   "outputs": [
    {
     "output_type": "stream",
     "name": "stdout",
     "text": [
      "       month  hour  dayofweek  weekday    lag_15  lag_RTM_15    lag_16  \\\n",
      "21792      6    16          1        1  71.26170    71.26170  74.33156   \n",
      "21793      6    16          1        1  71.20441    71.20441  71.26170   \n",
      "21794      6    16          1        1  70.88853    70.88853  71.20441   \n",
      "21814      6    17          1        1  61.21080    61.21080  59.44738   \n",
      "21815      6    17          1        1  58.91406    58.91406  61.21080   \n",
      "...      ...   ...        ...      ...       ...         ...       ...   \n",
      "25338      6    23          6        6  85.46594    85.46594  84.79780   \n",
      "25339      6    23          6        6  86.73479    86.73479  85.46594   \n",
      "25340      6    23          6        6  87.99163    87.99163  86.73479   \n",
      "25341      6    23          6        6  88.53074    88.53074  87.99163   \n",
      "25342      6    23          6        6  90.14240    90.14240  88.53074   \n",
      "\n",
      "       lag_RTM_16    lag_17  lag_RTM_17  ...  lag_RTM_572   lag_573  \\\n",
      "21792    74.33156  73.86860    73.86860  ...     86.34232  85.34473   \n",
      "21793    71.26170  74.33156    74.33156  ...     87.96127  86.34232   \n",
      "21794    71.20441  71.26170    71.26170  ...     86.66870  87.96127   \n",
      "21814    59.44738  71.05948    71.05948  ...     54.55892  61.32366   \n",
      "21815    61.21080  59.44738    59.44738  ...    129.70235  54.55892   \n",
      "...           ...       ...         ...  ...          ...       ...   \n",
      "25338    84.79780  81.11424    81.11424  ...     87.47614  87.71350   \n",
      "25339    85.46594  84.79780    84.79780  ...     93.09389  87.47614   \n",
      "25340    86.73479  85.46594    85.46594  ...     77.08742  93.09389   \n",
      "25341    87.99163  86.73479    86.73479  ...     77.29278  77.08742   \n",
      "25342    88.53074  87.99163    87.99163  ...     77.08742  77.29278   \n",
      "\n",
      "       lag_RTM_573   lag_574  lag_RTM_574   lag_575  lag_RTM_575  lag_DAM_0  \\\n",
      "21792     85.34473  84.48304     84.48304  47.97362     47.97362   99.55844   \n",
      "21793     86.34232  85.34473     85.34473  84.48304     84.48304   99.55844   \n",
      "21794     87.96127  86.34232     86.34232  85.34473     85.34473   99.55844   \n",
      "21814     61.32366  59.32034     59.32034  59.87670     59.87670   97.99868   \n",
      "21815     54.55892  61.32366     61.32366  59.32034     59.32034   97.99868   \n",
      "...            ...       ...          ...       ...          ...        ...   \n",
      "25338     87.71350  82.56902     82.56902  82.86887     82.86887  135.37702   \n",
      "25339     87.47614  87.71350     87.71350  82.56902     82.56902  135.37702   \n",
      "25340     93.09389  87.47614     87.47614  87.71350     87.71350  135.37702   \n",
      "25341     77.08742  93.09389     93.09389  87.47614     87.47614  135.37702   \n",
      "25342     77.29278  77.08742     77.08742  93.09389     93.09389  135.37702   \n",
      "\n",
      "       lag_DAM_3  lag_DAM_-3  \n",
      "21792   94.54099    99.55844  \n",
      "21793   94.54099    99.55844  \n",
      "21794   94.54099    99.55844  \n",
      "21814   97.99868    97.71706  \n",
      "21815   97.99868    97.71706  \n",
      "...          ...         ...  \n",
      "25338  135.37702   135.37702  \n",
      "25339  135.37702   135.37702  \n",
      "25340  135.37702   135.37702  \n",
      "25341  135.37702   156.51518  \n",
      "25342  135.37702   156.51518  \n",
      "\n",
      "[2822 rows x 1129 columns] 21792     74.05966\n",
      "21793     73.62216\n",
      "21794     73.00318\n",
      "21814     71.80984\n",
      "21815     74.86970\n",
      "           ...    \n",
      "25338     93.39014\n",
      "25339     93.39014\n",
      "25340     97.56000\n",
      "25341     99.99760\n",
      "25342    102.06856\n",
      "Name: MW, Length: 2822, dtype: float64\n"
     ]
    }
   ],
   "source": [
    "print(X_val, Y_val)"
   ]
  },
  {
   "cell_type": "code",
   "execution_count": null,
   "metadata": {
    "colab": {
     "base_uri": "https://localhost:8080/"
    },
    "id": "SdawqCGNr4YU",
    "outputId": "5d0572ec-8e80-4b54-8c32-a75d340d7749",
    "pycharm": {
     "name": "#%%\n"
    }
   },
   "outputs": [
    {
     "output_type": "stream",
     "name": "stdout",
     "text": [
      "score  0.8993123375706074  learning_rate (20, 7, 0.3)\n",
      "mae train:  6.515920119265684 mae test:  15.683817050076307 mae_val 13.845715635362636\n",
      "score  0.9456009151269854  learning_rate (40, 6, 0.4)\n",
      "mae train:  4.8691121422217725 mae test:  16.432414875079974 mae_val 14.501205449528534\n",
      "score  0.8539932707137496  learning_rate (20, 6, 0.3)\n",
      "mae train:  7.733460404575951 mae test:  15.102529828957028 mae_val 13.187562530529757\n",
      "score  0.8968760450163594  learning_rate (40, 6, 0.2)\n",
      "mae train:  6.609925032632605 mae test:  15.27558179313365 mae_val 13.241659091517505\n",
      "score  0.5468077515433474  learning_rate (20, 7, 0.1)\n",
      "mae train:  12.922806181252566 mae test:  18.73148405557263 mae_val 16.139376191330186\n",
      "score  0.9906384547443933  learning_rate (60, 7, 0.4)\n",
      "mae train:  2.055671427723657 mae test:  15.717599478473831 mae_val 13.413368685633282\n",
      "score  0.9776344480115611  learning_rate (40, 7, 0.4)\n",
      "mae train:  3.185836025939567 mae test:  15.651188822191314 mae_val 13.415251826693616\n",
      "score  0.8893547449986905  learning_rate (40, 5, 0.4)\n",
      "mae train:  6.810131068892108 mae test:  16.297049480865944 mae_val 14.295173978792361\n",
      "score  0.9620150002742848  learning_rate (40, 8, 0.2)\n",
      "mae train:  4.037414601650324 mae test:  15.632760775726242 mae_val 13.601042154250395\n",
      "score  0.40958997986224444  learning_rate (20, 5, 0.1)\n",
      "mae train:  13.822344272200342 mae test:  17.184370082176603 mae_val 14.307941459432408\n",
      "{(20, 7, 0.3): 13.845715635362636, (40, 6, 0.4): 14.501205449528534, (20, 6, 0.3): 13.187562530529757, (40, 6, 0.2): 13.241659091517505, (20, 7, 0.1): 16.139376191330186, (60, 7, 0.4): 13.413368685633282, (40, 7, 0.4): 13.415251826693616, (40, 5, 0.4): 14.295173978792361, (40, 8, 0.2): 13.601042154250395, (20, 5, 0.1): 14.307941459432408}\n"
     ]
    }
   ],
   "source": [
    "## XGB regressor\n",
    "\n",
    "# grid size for search \n",
    "## n_estimators x max_depth x learning rate\n",
    "\n",
    "estimators = [20, 40, 60]\n",
    "rates = [0.1, 0.2, 0.3, 0.4]\n",
    "depths = [5, 6, 7, 8]\n",
    "\n",
    "#pool = [*product(range(len(estimators)), range(len(depths)), range(len(rates)))]\n",
    "pool = [*product(estimators, depths, rates)]\n",
    "\n",
    "#20, 5, 0.3 \n",
    "random_indices = random.sample(pool, 10)\n",
    "\n",
    "val_acc = {}\n",
    "for edr in random_indices:\n",
    "  xgbr = xgb.XGBRegressor(booster='gbtree', max_depth=edr[1], objective='reg:squarederror', n_estimators=edr[0],learning_rate=edr[2], criterion='squared_error', verbosity=1) #, \n",
    "  xgbr.fit(X_train, Y_train)\n",
    "  score = xgbr.score(X_train, Y_train)  \n",
    "  print('score ', score, ' learning_rate', edr)\n",
    "  \n",
    "  mae_train  = mean_absolute_error(xgbr.predict(X_train), Y_train)\n",
    "  mae_val = mean_absolute_error(xgbr.predict(X_val), Y_val)\n",
    "  mae_test = mean_absolute_error(xgbr.predict(X_test), Y_test)\n",
    "  print('mae train: ', mae_train, 'mae test: ', mae_test, 'mae_val', mae_val)\n",
    "\n",
    "  val_acc[edr] = mean_absolute_error(xgbr.predict(X_val), Y_val)\n",
    "\n",
    "print(val_acc)\n",
    "#mse = mean_squared_error(Y_test, Y_pred)\n",
    "#print(xgbr)\n",
    "\n",
    "## Add Thompson sampling here "
   ]
  },
  {
   "cell_type": "code",
   "execution_count": null,
   "metadata": {
    "colab": {
     "base_uri": "https://localhost:8080/"
    },
    "id": "5DCWjYWcxQMJ",
    "outputId": "64528161-e70d-46fc-c4ed-d2a128af131c",
    "pycharm": {
     "name": "#%%\n"
    }
   },
   "outputs": [
    {
     "output_type": "stream",
     "name": "stdout",
     "text": [
      "train 7.733460404575951 test 15.102529828957028 val 13.187562530529757 overall 10.298435189103584\n",
      "RTM-DAM mae 24.86086229652778\n"
     ]
    }
   ],
   "source": [
    "## find optimal hyperparameters \n",
    "edr = {key: value for key, value in val_acc.items() if value == min(val_acc.values())}\n",
    "\n",
    "edr = list(edr)[0]\n",
    "\n",
    "## retrain again and check the gain compared to DAM\n",
    "xgbr = xgb.XGBRegressor(booster='gbtree', max_depth=edr[1], objective='reg:squarederror', n_estimators=edr[0],learning_rate=edr[2], criterion='absolute_error', verbosity=1) #, \n",
    "xgbr.fit(X_train, Y_train)\n",
    "  \n",
    "mae_train  = mean_absolute_error(xgbr.predict(X_train), Y_train)\n",
    "mae_val = mean_absolute_error(xgbr.predict(X_val), Y_val)\n",
    "mae_test = mean_absolute_error(xgbr.predict(X_test), Y_test)\n",
    "mae_overall = mean_absolute_error(xgbr.predict(X), Y)\n",
    "\n",
    "print(\"train\", mae_train, \"test\", mae_test, \"val\", mae_val, \"overall\", mae_overall)\n",
    "\n",
    "print(\"RTM-DAM mae\", np.mean(np.abs(RTM_price['MW'] - DAM_price['MW'])))"
   ]
  },
  {
   "cell_type": "code",
   "execution_count": null,
   "metadata": {
    "id": "5EWFIOIi-Dcj",
    "pycharm": {
     "name": "#%%\n"
    }
   },
   "outputs": [],
   "source": [
    "#x_ax = range(2000)\n",
    "#plt.plot(x_ax, Y_test[-2001:-1], 'r', label=\"RTM\")\n",
    "#plt.plot(x_ax, DAM_price['MW'][-3001:-1], 'g', label=\"DAM\")\n",
    "#plt.plot(x_ax, xgbr.predict(X_test)[-2001:-1], 'b', label=\"Prediction\") #normalize with DAM data\n",
    "#plt.title(\"Test, DAM and predicted data\")\n",
    "#plt.legend()\n",
    "#plt.show()"
   ]
  },
  {
   "cell_type": "code",
   "execution_count": null,
   "metadata": {
    "colab": {
     "base_uri": "https://localhost:8080/"
    },
    "id": "eeia-tc-ZnD0",
    "outputId": "707df16d-7bac-49f6-e46c-fe2ab6a92b35",
    "pycharm": {
     "name": "#%%\n"
    }
   },
   "outputs": [
    {
     "output_type": "stream",
     "name": "stdout",
     "text": [
      "Learning Approx: 10.298435189103584\n",
      "RTM-DAM mae 24.86086229652778\n"
     ]
    }
   ],
   "source": [
    "print(\"Learning Approx:\", mae_overall)\n",
    "\n",
    "print(\"RTM-DAM mae\", np.mean(np.abs(RTM_price['MW'] - DAM_price['MW'])))"
   ]
  },
  {
   "cell_type": "code",
   "execution_count": null,
   "metadata": {
    "id": "qJw1LWL10KLK",
    "colab": {
     "base_uri": "https://localhost:8080/",
     "height": 375
    },
    "outputId": "94dcfdd1-3b7d-4875-f87f-5d56f9838dc4",
    "pycharm": {
     "name": "#%%\n"
    }
   },
   "outputs": [
    {
     "output_type": "error",
     "ename": "KeyboardInterrupt",
     "evalue": "ignored",
     "traceback": [
      "\u001B[0;31m---------------------------------------------------------------------------\u001B[0m",
      "\u001B[0;31mKeyboardInterrupt\u001B[0m                         Traceback (most recent call last)",
      "\u001B[0;32m<ipython-input-25-bb4d802a74e8>\u001B[0m in \u001B[0;36m<module>\u001B[0;34m\u001B[0m\n\u001B[1;32m      1\u001B[0m \u001B[0;31m## one more classifier just for test\u001B[0m\u001B[0;34m\u001B[0m\u001B[0;34m\u001B[0m\u001B[0;34m\u001B[0m\u001B[0m\n\u001B[1;32m      2\u001B[0m \u001B[0mforest\u001B[0m \u001B[0;34m=\u001B[0m \u001B[0mRandomForestRegressor\u001B[0m\u001B[0;34m(\u001B[0m\u001B[0mn_estimators\u001B[0m\u001B[0;34m=\u001B[0m\u001B[0;36m20\u001B[0m\u001B[0;34m,\u001B[0m \u001B[0mmax_depth\u001B[0m\u001B[0;34m=\u001B[0m\u001B[0;36m10\u001B[0m\u001B[0;34m,\u001B[0m \u001B[0mcriterion\u001B[0m\u001B[0;34m=\u001B[0m\u001B[0;34m'absolute_error'\u001B[0m\u001B[0;34m)\u001B[0m\u001B[0;34m\u001B[0m\u001B[0;34m\u001B[0m\u001B[0m\n\u001B[0;32m----> 3\u001B[0;31m \u001B[0mforest\u001B[0m\u001B[0;34m.\u001B[0m\u001B[0mfit\u001B[0m\u001B[0;34m(\u001B[0m\u001B[0mX_train\u001B[0m\u001B[0;34m,\u001B[0m \u001B[0mY_train\u001B[0m\u001B[0;34m)\u001B[0m\u001B[0;34m\u001B[0m\u001B[0;34m\u001B[0m\u001B[0m\n\u001B[0m\u001B[1;32m      4\u001B[0m \u001B[0mY_pred\u001B[0m \u001B[0;34m=\u001B[0m \u001B[0mforest\u001B[0m\u001B[0;34m.\u001B[0m\u001B[0mpredict\u001B[0m\u001B[0;34m(\u001B[0m\u001B[0mX_test\u001B[0m\u001B[0;34m)\u001B[0m\u001B[0;34m\u001B[0m\u001B[0;34m\u001B[0m\u001B[0m\n\u001B[1;32m      5\u001B[0m \u001B[0;34m\u001B[0m\u001B[0m\n",
      "\u001B[0;32m/usr/local/lib/python3.7/dist-packages/sklearn/ensemble/_forest.py\u001B[0m in \u001B[0;36mfit\u001B[0;34m(self, X, y, sample_weight)\u001B[0m\n\u001B[1;32m    465\u001B[0m                     \u001B[0mn_samples_bootstrap\u001B[0m\u001B[0;34m=\u001B[0m\u001B[0mn_samples_bootstrap\u001B[0m\u001B[0;34m,\u001B[0m\u001B[0;34m\u001B[0m\u001B[0;34m\u001B[0m\u001B[0m\n\u001B[1;32m    466\u001B[0m                 )\n\u001B[0;32m--> 467\u001B[0;31m                 \u001B[0;32mfor\u001B[0m \u001B[0mi\u001B[0m\u001B[0;34m,\u001B[0m \u001B[0mt\u001B[0m \u001B[0;32min\u001B[0m \u001B[0menumerate\u001B[0m\u001B[0;34m(\u001B[0m\u001B[0mtrees\u001B[0m\u001B[0;34m)\u001B[0m\u001B[0;34m\u001B[0m\u001B[0;34m\u001B[0m\u001B[0m\n\u001B[0m\u001B[1;32m    468\u001B[0m             )\n\u001B[1;32m    469\u001B[0m \u001B[0;34m\u001B[0m\u001B[0m\n",
      "\u001B[0;32m/usr/local/lib/python3.7/dist-packages/joblib/parallel.py\u001B[0m in \u001B[0;36m__call__\u001B[0;34m(self, iterable)\u001B[0m\n\u001B[1;32m   1041\u001B[0m             \u001B[0;31m# remaining jobs.\u001B[0m\u001B[0;34m\u001B[0m\u001B[0;34m\u001B[0m\u001B[0;34m\u001B[0m\u001B[0m\n\u001B[1;32m   1042\u001B[0m             \u001B[0mself\u001B[0m\u001B[0;34m.\u001B[0m\u001B[0m_iterating\u001B[0m \u001B[0;34m=\u001B[0m \u001B[0;32mFalse\u001B[0m\u001B[0;34m\u001B[0m\u001B[0;34m\u001B[0m\u001B[0m\n\u001B[0;32m-> 1043\u001B[0;31m             \u001B[0;32mif\u001B[0m \u001B[0mself\u001B[0m\u001B[0;34m.\u001B[0m\u001B[0mdispatch_one_batch\u001B[0m\u001B[0;34m(\u001B[0m\u001B[0miterator\u001B[0m\u001B[0;34m)\u001B[0m\u001B[0;34m:\u001B[0m\u001B[0;34m\u001B[0m\u001B[0;34m\u001B[0m\u001B[0m\n\u001B[0m\u001B[1;32m   1044\u001B[0m                 \u001B[0mself\u001B[0m\u001B[0;34m.\u001B[0m\u001B[0m_iterating\u001B[0m \u001B[0;34m=\u001B[0m \u001B[0mself\u001B[0m\u001B[0;34m.\u001B[0m\u001B[0m_original_iterator\u001B[0m \u001B[0;32mis\u001B[0m \u001B[0;32mnot\u001B[0m \u001B[0;32mNone\u001B[0m\u001B[0;34m\u001B[0m\u001B[0;34m\u001B[0m\u001B[0m\n\u001B[1;32m   1045\u001B[0m \u001B[0;34m\u001B[0m\u001B[0m\n",
      "\u001B[0;32m/usr/local/lib/python3.7/dist-packages/joblib/parallel.py\u001B[0m in \u001B[0;36mdispatch_one_batch\u001B[0;34m(self, iterator)\u001B[0m\n\u001B[1;32m    859\u001B[0m                 \u001B[0;32mreturn\u001B[0m \u001B[0;32mFalse\u001B[0m\u001B[0;34m\u001B[0m\u001B[0;34m\u001B[0m\u001B[0m\n\u001B[1;32m    860\u001B[0m             \u001B[0;32melse\u001B[0m\u001B[0;34m:\u001B[0m\u001B[0;34m\u001B[0m\u001B[0;34m\u001B[0m\u001B[0m\n\u001B[0;32m--> 861\u001B[0;31m                 \u001B[0mself\u001B[0m\u001B[0;34m.\u001B[0m\u001B[0m_dispatch\u001B[0m\u001B[0;34m(\u001B[0m\u001B[0mtasks\u001B[0m\u001B[0;34m)\u001B[0m\u001B[0;34m\u001B[0m\u001B[0;34m\u001B[0m\u001B[0m\n\u001B[0m\u001B[1;32m    862\u001B[0m                 \u001B[0;32mreturn\u001B[0m \u001B[0;32mTrue\u001B[0m\u001B[0;34m\u001B[0m\u001B[0;34m\u001B[0m\u001B[0m\n\u001B[1;32m    863\u001B[0m \u001B[0;34m\u001B[0m\u001B[0m\n",
      "\u001B[0;32m/usr/local/lib/python3.7/dist-packages/joblib/parallel.py\u001B[0m in \u001B[0;36m_dispatch\u001B[0;34m(self, batch)\u001B[0m\n\u001B[1;32m    777\u001B[0m         \u001B[0;32mwith\u001B[0m \u001B[0mself\u001B[0m\u001B[0;34m.\u001B[0m\u001B[0m_lock\u001B[0m\u001B[0;34m:\u001B[0m\u001B[0;34m\u001B[0m\u001B[0;34m\u001B[0m\u001B[0m\n\u001B[1;32m    778\u001B[0m             \u001B[0mjob_idx\u001B[0m \u001B[0;34m=\u001B[0m \u001B[0mlen\u001B[0m\u001B[0;34m(\u001B[0m\u001B[0mself\u001B[0m\u001B[0;34m.\u001B[0m\u001B[0m_jobs\u001B[0m\u001B[0;34m)\u001B[0m\u001B[0;34m\u001B[0m\u001B[0;34m\u001B[0m\u001B[0m\n\u001B[0;32m--> 779\u001B[0;31m             \u001B[0mjob\u001B[0m \u001B[0;34m=\u001B[0m \u001B[0mself\u001B[0m\u001B[0;34m.\u001B[0m\u001B[0m_backend\u001B[0m\u001B[0;34m.\u001B[0m\u001B[0mapply_async\u001B[0m\u001B[0;34m(\u001B[0m\u001B[0mbatch\u001B[0m\u001B[0;34m,\u001B[0m \u001B[0mcallback\u001B[0m\u001B[0;34m=\u001B[0m\u001B[0mcb\u001B[0m\u001B[0;34m)\u001B[0m\u001B[0;34m\u001B[0m\u001B[0;34m\u001B[0m\u001B[0m\n\u001B[0m\u001B[1;32m    780\u001B[0m             \u001B[0;31m# A job can complete so quickly than its callback is\u001B[0m\u001B[0;34m\u001B[0m\u001B[0;34m\u001B[0m\u001B[0;34m\u001B[0m\u001B[0m\n\u001B[1;32m    781\u001B[0m             \u001B[0;31m# called before we get here, causing self._jobs to\u001B[0m\u001B[0;34m\u001B[0m\u001B[0;34m\u001B[0m\u001B[0;34m\u001B[0m\u001B[0m\n",
      "\u001B[0;32m/usr/local/lib/python3.7/dist-packages/joblib/_parallel_backends.py\u001B[0m in \u001B[0;36mapply_async\u001B[0;34m(self, func, callback)\u001B[0m\n\u001B[1;32m    206\u001B[0m     \u001B[0;32mdef\u001B[0m \u001B[0mapply_async\u001B[0m\u001B[0;34m(\u001B[0m\u001B[0mself\u001B[0m\u001B[0;34m,\u001B[0m \u001B[0mfunc\u001B[0m\u001B[0;34m,\u001B[0m \u001B[0mcallback\u001B[0m\u001B[0;34m=\u001B[0m\u001B[0;32mNone\u001B[0m\u001B[0;34m)\u001B[0m\u001B[0;34m:\u001B[0m\u001B[0;34m\u001B[0m\u001B[0;34m\u001B[0m\u001B[0m\n\u001B[1;32m    207\u001B[0m         \u001B[0;34m\"\"\"Schedule a func to be run\"\"\"\u001B[0m\u001B[0;34m\u001B[0m\u001B[0;34m\u001B[0m\u001B[0m\n\u001B[0;32m--> 208\u001B[0;31m         \u001B[0mresult\u001B[0m \u001B[0;34m=\u001B[0m \u001B[0mImmediateResult\u001B[0m\u001B[0;34m(\u001B[0m\u001B[0mfunc\u001B[0m\u001B[0;34m)\u001B[0m\u001B[0;34m\u001B[0m\u001B[0;34m\u001B[0m\u001B[0m\n\u001B[0m\u001B[1;32m    209\u001B[0m         \u001B[0;32mif\u001B[0m \u001B[0mcallback\u001B[0m\u001B[0;34m:\u001B[0m\u001B[0;34m\u001B[0m\u001B[0;34m\u001B[0m\u001B[0m\n\u001B[1;32m    210\u001B[0m             \u001B[0mcallback\u001B[0m\u001B[0;34m(\u001B[0m\u001B[0mresult\u001B[0m\u001B[0;34m)\u001B[0m\u001B[0;34m\u001B[0m\u001B[0;34m\u001B[0m\u001B[0m\n",
      "\u001B[0;32m/usr/local/lib/python3.7/dist-packages/joblib/_parallel_backends.py\u001B[0m in \u001B[0;36m__init__\u001B[0;34m(self, batch)\u001B[0m\n\u001B[1;32m    570\u001B[0m         \u001B[0;31m# Don't delay the application, to avoid keeping the input\u001B[0m\u001B[0;34m\u001B[0m\u001B[0;34m\u001B[0m\u001B[0;34m\u001B[0m\u001B[0m\n\u001B[1;32m    571\u001B[0m         \u001B[0;31m# arguments in memory\u001B[0m\u001B[0;34m\u001B[0m\u001B[0;34m\u001B[0m\u001B[0;34m\u001B[0m\u001B[0m\n\u001B[0;32m--> 572\u001B[0;31m         \u001B[0mself\u001B[0m\u001B[0;34m.\u001B[0m\u001B[0mresults\u001B[0m \u001B[0;34m=\u001B[0m \u001B[0mbatch\u001B[0m\u001B[0;34m(\u001B[0m\u001B[0;34m)\u001B[0m\u001B[0;34m\u001B[0m\u001B[0;34m\u001B[0m\u001B[0m\n\u001B[0m\u001B[1;32m    573\u001B[0m \u001B[0;34m\u001B[0m\u001B[0m\n\u001B[1;32m    574\u001B[0m     \u001B[0;32mdef\u001B[0m \u001B[0mget\u001B[0m\u001B[0;34m(\u001B[0m\u001B[0mself\u001B[0m\u001B[0;34m)\u001B[0m\u001B[0;34m:\u001B[0m\u001B[0;34m\u001B[0m\u001B[0;34m\u001B[0m\u001B[0m\n",
      "\u001B[0;32m/usr/local/lib/python3.7/dist-packages/joblib/parallel.py\u001B[0m in \u001B[0;36m__call__\u001B[0;34m(self)\u001B[0m\n\u001B[1;32m    261\u001B[0m         \u001B[0;32mwith\u001B[0m \u001B[0mparallel_backend\u001B[0m\u001B[0;34m(\u001B[0m\u001B[0mself\u001B[0m\u001B[0;34m.\u001B[0m\u001B[0m_backend\u001B[0m\u001B[0;34m,\u001B[0m \u001B[0mn_jobs\u001B[0m\u001B[0;34m=\u001B[0m\u001B[0mself\u001B[0m\u001B[0;34m.\u001B[0m\u001B[0m_n_jobs\u001B[0m\u001B[0;34m)\u001B[0m\u001B[0;34m:\u001B[0m\u001B[0;34m\u001B[0m\u001B[0;34m\u001B[0m\u001B[0m\n\u001B[1;32m    262\u001B[0m             return [func(*args, **kwargs)\n\u001B[0;32m--> 263\u001B[0;31m                     for func, args, kwargs in self.items]\n\u001B[0m\u001B[1;32m    264\u001B[0m \u001B[0;34m\u001B[0m\u001B[0m\n\u001B[1;32m    265\u001B[0m     \u001B[0;32mdef\u001B[0m \u001B[0m__reduce__\u001B[0m\u001B[0;34m(\u001B[0m\u001B[0mself\u001B[0m\u001B[0;34m)\u001B[0m\u001B[0;34m:\u001B[0m\u001B[0;34m\u001B[0m\u001B[0;34m\u001B[0m\u001B[0m\n",
      "\u001B[0;32m/usr/local/lib/python3.7/dist-packages/joblib/parallel.py\u001B[0m in \u001B[0;36m<listcomp>\u001B[0;34m(.0)\u001B[0m\n\u001B[1;32m    261\u001B[0m         \u001B[0;32mwith\u001B[0m \u001B[0mparallel_backend\u001B[0m\u001B[0;34m(\u001B[0m\u001B[0mself\u001B[0m\u001B[0;34m.\u001B[0m\u001B[0m_backend\u001B[0m\u001B[0;34m,\u001B[0m \u001B[0mn_jobs\u001B[0m\u001B[0;34m=\u001B[0m\u001B[0mself\u001B[0m\u001B[0;34m.\u001B[0m\u001B[0m_n_jobs\u001B[0m\u001B[0;34m)\u001B[0m\u001B[0;34m:\u001B[0m\u001B[0;34m\u001B[0m\u001B[0;34m\u001B[0m\u001B[0m\n\u001B[1;32m    262\u001B[0m             return [func(*args, **kwargs)\n\u001B[0;32m--> 263\u001B[0;31m                     for func, args, kwargs in self.items]\n\u001B[0m\u001B[1;32m    264\u001B[0m \u001B[0;34m\u001B[0m\u001B[0m\n\u001B[1;32m    265\u001B[0m     \u001B[0;32mdef\u001B[0m \u001B[0m__reduce__\u001B[0m\u001B[0;34m(\u001B[0m\u001B[0mself\u001B[0m\u001B[0;34m)\u001B[0m\u001B[0;34m:\u001B[0m\u001B[0;34m\u001B[0m\u001B[0;34m\u001B[0m\u001B[0m\n",
      "\u001B[0;32m/usr/local/lib/python3.7/dist-packages/sklearn/utils/fixes.py\u001B[0m in \u001B[0;36m__call__\u001B[0;34m(self, *args, **kwargs)\u001B[0m\n\u001B[1;32m    214\u001B[0m     \u001B[0;32mdef\u001B[0m \u001B[0m__call__\u001B[0m\u001B[0;34m(\u001B[0m\u001B[0mself\u001B[0m\u001B[0;34m,\u001B[0m \u001B[0;34m*\u001B[0m\u001B[0margs\u001B[0m\u001B[0;34m,\u001B[0m \u001B[0;34m**\u001B[0m\u001B[0mkwargs\u001B[0m\u001B[0;34m)\u001B[0m\u001B[0;34m:\u001B[0m\u001B[0;34m\u001B[0m\u001B[0;34m\u001B[0m\u001B[0m\n\u001B[1;32m    215\u001B[0m         \u001B[0;32mwith\u001B[0m \u001B[0mconfig_context\u001B[0m\u001B[0;34m(\u001B[0m\u001B[0;34m**\u001B[0m\u001B[0mself\u001B[0m\u001B[0;34m.\u001B[0m\u001B[0mconfig\u001B[0m\u001B[0;34m)\u001B[0m\u001B[0;34m:\u001B[0m\u001B[0;34m\u001B[0m\u001B[0;34m\u001B[0m\u001B[0m\n\u001B[0;32m--> 216\u001B[0;31m             \u001B[0;32mreturn\u001B[0m \u001B[0mself\u001B[0m\u001B[0;34m.\u001B[0m\u001B[0mfunction\u001B[0m\u001B[0;34m(\u001B[0m\u001B[0;34m*\u001B[0m\u001B[0margs\u001B[0m\u001B[0;34m,\u001B[0m \u001B[0;34m**\u001B[0m\u001B[0mkwargs\u001B[0m\u001B[0;34m)\u001B[0m\u001B[0;34m\u001B[0m\u001B[0;34m\u001B[0m\u001B[0m\n\u001B[0m\u001B[1;32m    217\u001B[0m \u001B[0;34m\u001B[0m\u001B[0m\n\u001B[1;32m    218\u001B[0m \u001B[0;34m\u001B[0m\u001B[0m\n",
      "\u001B[0;32m/usr/local/lib/python3.7/dist-packages/sklearn/ensemble/_forest.py\u001B[0m in \u001B[0;36m_parallel_build_trees\u001B[0;34m(tree, forest, X, y, sample_weight, tree_idx, n_trees, verbose, class_weight, n_samples_bootstrap)\u001B[0m\n\u001B[1;32m    183\u001B[0m             \u001B[0mcurr_sample_weight\u001B[0m \u001B[0;34m*=\u001B[0m \u001B[0mcompute_sample_weight\u001B[0m\u001B[0;34m(\u001B[0m\u001B[0;34m\"balanced\"\u001B[0m\u001B[0;34m,\u001B[0m \u001B[0my\u001B[0m\u001B[0;34m,\u001B[0m \u001B[0mindices\u001B[0m\u001B[0;34m=\u001B[0m\u001B[0mindices\u001B[0m\u001B[0;34m)\u001B[0m\u001B[0;34m\u001B[0m\u001B[0;34m\u001B[0m\u001B[0m\n\u001B[1;32m    184\u001B[0m \u001B[0;34m\u001B[0m\u001B[0m\n\u001B[0;32m--> 185\u001B[0;31m         \u001B[0mtree\u001B[0m\u001B[0;34m.\u001B[0m\u001B[0mfit\u001B[0m\u001B[0;34m(\u001B[0m\u001B[0mX\u001B[0m\u001B[0;34m,\u001B[0m \u001B[0my\u001B[0m\u001B[0;34m,\u001B[0m \u001B[0msample_weight\u001B[0m\u001B[0;34m=\u001B[0m\u001B[0mcurr_sample_weight\u001B[0m\u001B[0;34m,\u001B[0m \u001B[0mcheck_input\u001B[0m\u001B[0;34m=\u001B[0m\u001B[0;32mFalse\u001B[0m\u001B[0;34m)\u001B[0m\u001B[0;34m\u001B[0m\u001B[0;34m\u001B[0m\u001B[0m\n\u001B[0m\u001B[1;32m    186\u001B[0m     \u001B[0;32melse\u001B[0m\u001B[0;34m:\u001B[0m\u001B[0;34m\u001B[0m\u001B[0;34m\u001B[0m\u001B[0m\n\u001B[1;32m    187\u001B[0m         \u001B[0mtree\u001B[0m\u001B[0;34m.\u001B[0m\u001B[0mfit\u001B[0m\u001B[0;34m(\u001B[0m\u001B[0mX\u001B[0m\u001B[0;34m,\u001B[0m \u001B[0my\u001B[0m\u001B[0;34m,\u001B[0m \u001B[0msample_weight\u001B[0m\u001B[0;34m=\u001B[0m\u001B[0msample_weight\u001B[0m\u001B[0;34m,\u001B[0m \u001B[0mcheck_input\u001B[0m\u001B[0;34m=\u001B[0m\u001B[0;32mFalse\u001B[0m\u001B[0;34m)\u001B[0m\u001B[0;34m\u001B[0m\u001B[0;34m\u001B[0m\u001B[0m\n",
      "\u001B[0;32m/usr/local/lib/python3.7/dist-packages/sklearn/tree/_classes.py\u001B[0m in \u001B[0;36mfit\u001B[0;34m(self, X, y, sample_weight, check_input, X_idx_sorted)\u001B[0m\n\u001B[1;32m   1318\u001B[0m             \u001B[0msample_weight\u001B[0m\u001B[0;34m=\u001B[0m\u001B[0msample_weight\u001B[0m\u001B[0;34m,\u001B[0m\u001B[0;34m\u001B[0m\u001B[0;34m\u001B[0m\u001B[0m\n\u001B[1;32m   1319\u001B[0m             \u001B[0mcheck_input\u001B[0m\u001B[0;34m=\u001B[0m\u001B[0mcheck_input\u001B[0m\u001B[0;34m,\u001B[0m\u001B[0;34m\u001B[0m\u001B[0;34m\u001B[0m\u001B[0m\n\u001B[0;32m-> 1320\u001B[0;31m             \u001B[0mX_idx_sorted\u001B[0m\u001B[0;34m=\u001B[0m\u001B[0mX_idx_sorted\u001B[0m\u001B[0;34m,\u001B[0m\u001B[0;34m\u001B[0m\u001B[0;34m\u001B[0m\u001B[0m\n\u001B[0m\u001B[1;32m   1321\u001B[0m         )\n\u001B[1;32m   1322\u001B[0m         \u001B[0;32mreturn\u001B[0m \u001B[0mself\u001B[0m\u001B[0;34m\u001B[0m\u001B[0;34m\u001B[0m\u001B[0m\n",
      "\u001B[0;32m/usr/local/lib/python3.7/dist-packages/sklearn/tree/_classes.py\u001B[0m in \u001B[0;36mfit\u001B[0;34m(self, X, y, sample_weight, check_input, X_idx_sorted)\u001B[0m\n\u001B[1;32m    418\u001B[0m             )\n\u001B[1;32m    419\u001B[0m \u001B[0;34m\u001B[0m\u001B[0m\n\u001B[0;32m--> 420\u001B[0;31m         \u001B[0mbuilder\u001B[0m\u001B[0;34m.\u001B[0m\u001B[0mbuild\u001B[0m\u001B[0;34m(\u001B[0m\u001B[0mself\u001B[0m\u001B[0;34m.\u001B[0m\u001B[0mtree_\u001B[0m\u001B[0;34m,\u001B[0m \u001B[0mX\u001B[0m\u001B[0;34m,\u001B[0m \u001B[0my\u001B[0m\u001B[0;34m,\u001B[0m \u001B[0msample_weight\u001B[0m\u001B[0;34m)\u001B[0m\u001B[0;34m\u001B[0m\u001B[0;34m\u001B[0m\u001B[0m\n\u001B[0m\u001B[1;32m    421\u001B[0m \u001B[0;34m\u001B[0m\u001B[0m\n\u001B[1;32m    422\u001B[0m         \u001B[0;32mif\u001B[0m \u001B[0mself\u001B[0m\u001B[0;34m.\u001B[0m\u001B[0mn_outputs_\u001B[0m \u001B[0;34m==\u001B[0m \u001B[0;36m1\u001B[0m \u001B[0;32mand\u001B[0m \u001B[0mis_classifier\u001B[0m\u001B[0;34m(\u001B[0m\u001B[0mself\u001B[0m\u001B[0;34m)\u001B[0m\u001B[0;34m:\u001B[0m\u001B[0;34m\u001B[0m\u001B[0;34m\u001B[0m\u001B[0m\n",
      "\u001B[0;31mKeyboardInterrupt\u001B[0m: "
     ]
    }
   ],
   "source": [
    "## one more classifier just for test\n",
    "forest = RandomForestRegressor(n_estimators=20, max_depth=10, criterion='absolute_error')\n",
    "forest.fit(X_train, Y_train)\n",
    "Y_pred = forest.predict(X_test)\n",
    "\n",
    "Y_pred = xgbr.predict(X_test)\n",
    "mae_test = mean_absolute_error(Y_test, Y_pred)\n",
    "mae_val = mean_absolute_error(forest.predict(X_val), Y_val)\n",
    "mae_train = mean_absolute_error(forest.predict(X_train), Y_train)\n",
    "\n",
    "print(\"MAE test/validation/train: %.2f %.2f %.2f \" % mae_train, mae_val, mae_train)"
   ]
  },
  {
   "cell_type": "code",
   "execution_count": null,
   "metadata": {
    "id": "klKc900Ou6wq",
    "pycharm": {
     "name": "#%%\n"
    }
   },
   "outputs": [],
   "source": [
    "## K-fold cross validation\n",
    "\n",
    "score = xgbr.score(X_train, Y_train)  \n",
    "print(\"Training score: \", score)\n",
    "\n",
    "## Cross validation, works slowly over large datasets\n",
    "#scores = cross_val_score(xgbr, X_train, Y_train, cv=10)\n",
    "#print(\"Mean cross-validation score: %.2f\" % scores.mean())\n",
    "\n",
    "## Faster Alternative to cross validation\n",
    "kfold = KFold(n_splits=5, shuffle=True)\n",
    "kf_cv_scores = cross_val_score(xgbr, X_train, Y_train, cv=kfold)\n",
    "print(\"K-fold CV average score: %.2f\" % kf_cv_scores.mean())"
   ]
  }
 ],
 "metadata": {
  "colab": {
   "collapsed_sections": [
    "O-dBGTBGVOkM",
    "KOvACA-WVOkR",
    "S2JzSf1MVOkS",
    "cYVE2AJvVOkU",
    "czYa29iUVOkW"
   ],
   "provenance": []
  },
  "kernelspec": {
   "display_name": "Python 3.10.5 ('electric': conda)",
   "language": "python",
   "name": "python3"
  },
  "language_info": {
   "codemirror_mode": {
    "name": "ipython",
    "version": 3
   },
   "file_extension": ".py",
   "mimetype": "text/x-python",
   "name": "python",
   "nbconvert_exporter": "python",
   "pygments_lexer": "ipython3",
   "version": "3.10.5"
  },
  "vscode": {
   "interpreter": {
    "hash": "a6af347cd8ef3fdb274dd4fb88c208b7fe570bd8448b7435b840e5bbf82a5ca0"
   }
  }
 },
 "nbformat": 4,
 "nbformat_minor": 0
}